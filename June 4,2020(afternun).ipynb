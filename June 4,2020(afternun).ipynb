{
 "cells": [
  {
   "cell_type": "markdown",
   "metadata": {},
   "source": [
    "## Functional Programming"
   ]
  },
  {
   "cell_type": "markdown",
   "metadata": {},
   "source": [
    "### Map ,filter and lambda"
   ]
  },
  {
   "cell_type": "code",
   "execution_count": null,
   "metadata": {},
   "outputs": [],
   "source": [
    "# Map:\n",
    "- builtin function,it returns map object\n",
    "- to see the result we have to use list,tuple,set.\n",
    "-syntax:\n",
    "    - map(function,iterable1,iterable2,.....)\n",
    "- it apply given function to each item of given iterable."
   ]
  },
  {
   "cell_type": "code",
   "execution_count": 12,
   "metadata": {},
   "outputs": [
    {
     "name": "stdout",
     "output_type": "stream",
     "text": [
      "23\n"
     ]
    }
   ],
   "source": [
    "n=int(input())"
   ]
  },
  {
   "cell_type": "code",
   "execution_count": 13,
   "metadata": {},
   "outputs": [
    {
     "name": "stdout",
     "output_type": "stream",
     "text": [
      "['a', 'p', 'ss', 'dc']\n"
     ]
    }
   ],
   "source": [
    "s=\"a p ss dc\"\n",
    "print(s.split())"
   ]
  },
  {
   "cell_type": "code",
   "execution_count": null,
   "metadata": {},
   "outputs": [],
   "source": [
    "20 90 80 67\n",
    "20,90,80,67"
   ]
  },
  {
   "cell_type": "code",
   "execution_count": 16,
   "metadata": {
    "scrolled": true
   },
   "outputs": [
    {
     "name": "stdout",
     "output_type": "stream",
     "text": [
      "24 56 78 12 67\n",
      "<class 'list'>\n",
      "[24, 56, 78, 12, 67]\n"
     ]
    }
   ],
   "source": [
    "#multiple inputs\n",
    "n=list(map(int,input().split()))\n",
    "print(type(n))\n",
    "print(n)"
   ]
  },
  {
   "cell_type": "code",
   "execution_count": 17,
   "metadata": {},
   "outputs": [
    {
     "name": "stdout",
     "output_type": "stream",
     "text": [
      "pavani ambika poojitha python\n",
      "<class 'list'>\n",
      "['pavani', 'ambika', 'poojitha', 'python']\n"
     ]
    }
   ],
   "source": [
    "n=list(map(str,input().split()))\n",
    "print(type(n))\n",
    "print(n)"
   ]
  },
  {
   "cell_type": "code",
   "execution_count": 18,
   "metadata": {},
   "outputs": [
    {
     "name": "stdout",
     "output_type": "stream",
     "text": [
      "p y t h o n\n",
      "<class 'tuple'>\n",
      "('p', 'y', 't', 'h', 'o', 'n')\n"
     ]
    }
   ],
   "source": [
    "n=tuple(map(str,input().split()))\n",
    "print(type(n))\n",
    "print(n)"
   ]
  },
  {
   "cell_type": "code",
   "execution_count": 20,
   "metadata": {},
   "outputs": [
    {
     "name": "stdout",
     "output_type": "stream",
     "text": [
      "23 4 5 12 12 12 45 \n",
      "<class 'set'>\n",
      "{'12', '45', '23', '4', '5'}\n"
     ]
    }
   ],
   "source": [
    "n=set(map(int,input().split()))\n",
    "print(type(n))\n",
    "print(n)"
   ]
  },
  {
   "cell_type": "code",
   "execution_count": null,
   "metadata": {},
   "outputs": [],
   "source": [
    "map(function,iterable)"
   ]
  },
  {
   "cell_type": "code",
   "execution_count": 84,
   "metadata": {},
   "outputs": [
    {
     "name": "stdout",
     "output_type": "stream",
     "text": [
      "[2, 4, 6, 8, 10]\n"
     ]
    }
   ],
   "source": [
    "def addition(n):\n",
    "    return n+n\n",
    "r=list(map(addition,range(1,6)))\n",
    "print(r)"
   ]
  },
  {
   "cell_type": "code",
   "execution_count": 26,
   "metadata": {},
   "outputs": [
    {
     "name": "stdout",
     "output_type": "stream",
     "text": [
      "{1, 4, 9, 16, 25}\n"
     ]
    }
   ],
   "source": [
    "def squareof(n):\n",
    "    return n*n\n",
    "r=set(map(squareof,range(1,6)))\n",
    "print(r)"
   ]
  },
  {
   "cell_type": "code",
   "execution_count": 27,
   "metadata": {},
   "outputs": [
    {
     "name": "stdout",
     "output_type": "stream",
     "text": [
      "enter starting:1\n",
      "enter ending:10\n",
      "{64, 1, 4, 36, 100, 9, 16, 49, 81, 25}\n"
     ]
    }
   ],
   "source": [
    "def squareof(n):\n",
    "    return n*n\n",
    "start=int(input(\"enter starting:\"))\n",
    "end=int(input(\"enter ending:\"))\n",
    "r=set(map(squareof,range(start,end+1)))\n",
    "print(r)"
   ]
  },
  {
   "cell_type": "code",
   "execution_count": 28,
   "metadata": {},
   "outputs": [
    {
     "name": "stdout",
     "output_type": "stream",
     "text": [
      "enter starting:1\n",
      "enter ending:10\n",
      "[1, 4, 9, 16, 25, 36, 49, 64, 81, 100]\n"
     ]
    }
   ],
   "source": [
    "def squareof(n):\n",
    "    return n*n\n",
    "start=int(input(\"enter starting:\"))\n",
    "end=int(input(\"enter ending:\"))\n",
    "r=list(map(squareof,range(start,end+1)))\n",
    "print(r)"
   ]
  },
  {
   "cell_type": "code",
   "execution_count": 30,
   "metadata": {},
   "outputs": [
    {
     "name": "stdout",
     "output_type": "stream",
     "text": [
      "23 12 34 56 78\n",
      "203\n",
      "12\n",
      "78\n"
     ]
    }
   ],
   "source": [
    "n=list(map(int,input().split()))\n",
    "print(sum(n))\n",
    "print(min(n))\n",
    "print(max(n))"
   ]
  },
  {
   "cell_type": "code",
   "execution_count": 59,
   "metadata": {},
   "outputs": [],
   "source": [
    "def uppercase(s):\n",
    "    return str(s).upper()"
   ]
  },
  {
   "cell_type": "code",
   "execution_count": 44,
   "metadata": {},
   "outputs": [],
   "source": [
    "def print_upp(t):\n",
    "    for x in t:\n",
    "        print(x,end=\" \")"
   ]
  },
  {
   "cell_type": "code",
   "execution_count": 45,
   "metadata": {},
   "outputs": [
    {
     "name": "stdout",
     "output_type": "stream",
     "text": [
      "<class 'map'>\n",
      "A B C "
     ]
    }
   ],
   "source": [
    "#string\n",
    "result=map(uppercase,'abc')\n",
    "print(type(result))\n",
    "print_upp(result)"
   ]
  },
  {
   "cell_type": "code",
   "execution_count": 46,
   "metadata": {},
   "outputs": [
    {
     "name": "stdout",
     "output_type": "stream",
     "text": [
      "<class 'map'>\n",
      "1 A JFHJHJHHG "
     ]
    }
   ],
   "source": [
    "#tuple\n",
    "result=map(uppercase,(1,'a','jfhjhjhhg'))\n",
    "print(type(result))\n",
    "print_upp(result)"
   ]
  },
  {
   "cell_type": "code",
   "execution_count": 55,
   "metadata": {},
   "outputs": [
    {
     "name": "stdout",
     "output_type": "stream",
     "text": [
      "<class 'map'>\n",
      "ABC DEF GHI "
     ]
    }
   ],
   "source": [
    "#list\n",
    "result=map(uppercase,['abc','def','ghi'])\n",
    "print(type(result))\n",
    "print_upp(result)"
   ]
  },
  {
   "cell_type": "code",
   "execution_count": 50,
   "metadata": {},
   "outputs": [
    {
     "name": "stdout",
     "output_type": "stream",
     "text": [
      "<class 'map'>\n",
      "('ABC', 'DEF', 'GHI')\n"
     ]
    }
   ],
   "source": [
    "#list to tuple\n",
    "result=map(uppercase,['abc','def','ghi'])\n",
    "print(type(result))\n",
    "print(tuple(result))"
   ]
  },
  {
   "cell_type": "code",
   "execution_count": 51,
   "metadata": {},
   "outputs": [
    {
     "name": "stdout",
     "output_type": "stream",
     "text": [
      "<class 'map'>\n",
      "{'DEF', 'GHI', 'ABC'}\n"
     ]
    }
   ],
   "source": [
    "result=map(uppercase,['abc','def','ghi'])\n",
    "print(type(result))\n",
    "print(set(result))"
   ]
  },
  {
   "cell_type": "code",
   "execution_count": 52,
   "metadata": {},
   "outputs": [
    {
     "name": "stdout",
     "output_type": "stream",
     "text": [
      "<class 'map'>\n",
      "['ABC', 'DEF', 'GHI']\n"
     ]
    }
   ],
   "source": [
    "result=map(uppercase,['abc','def','ghi'])\n",
    "print(type(result))\n",
    "print(list(result))"
   ]
  },
  {
   "cell_type": "code",
   "execution_count": 53,
   "metadata": {},
   "outputs": [
    {
     "name": "stdout",
     "output_type": "stream",
     "text": [
      "<class 'map'>\n"
     ]
    },
    {
     "ename": "TypeError",
     "evalue": "'NoneType' object is not callable",
     "output_type": "error",
     "traceback": [
      "\u001b[1;31m---------------------------------------------------------------------------\u001b[0m",
      "\u001b[1;31mTypeError\u001b[0m                                 Traceback (most recent call last)",
      "\u001b[1;32m<ipython-input-53-dfa418e5355b>\u001b[0m in \u001b[0;36m<module>\u001b[1;34m\u001b[0m\n\u001b[0;32m      1\u001b[0m \u001b[0mresult\u001b[0m\u001b[1;33m=\u001b[0m\u001b[0mmap\u001b[0m\u001b[1;33m(\u001b[0m\u001b[1;32mNone\u001b[0m\u001b[1;33m,\u001b[0m\u001b[1;33m[\u001b[0m\u001b[1;34m'abc'\u001b[0m\u001b[1;33m,\u001b[0m\u001b[1;34m'def'\u001b[0m\u001b[1;33m,\u001b[0m\u001b[1;34m'ghi'\u001b[0m\u001b[1;33m]\u001b[0m\u001b[1;33m)\u001b[0m\u001b[1;33m\u001b[0m\u001b[1;33m\u001b[0m\u001b[0m\n\u001b[0;32m      2\u001b[0m \u001b[0mprint\u001b[0m\u001b[1;33m(\u001b[0m\u001b[0mtype\u001b[0m\u001b[1;33m(\u001b[0m\u001b[0mresult\u001b[0m\u001b[1;33m)\u001b[0m\u001b[1;33m)\u001b[0m\u001b[1;33m\u001b[0m\u001b[1;33m\u001b[0m\u001b[0m\n\u001b[1;32m----> 3\u001b[1;33m \u001b[0mprint\u001b[0m\u001b[1;33m(\u001b[0m\u001b[0mlist\u001b[0m\u001b[1;33m(\u001b[0m\u001b[0mresult\u001b[0m\u001b[1;33m)\u001b[0m\u001b[1;33m)\u001b[0m\u001b[1;33m\u001b[0m\u001b[1;33m\u001b[0m\u001b[0m\n\u001b[0m",
      "\u001b[1;31mTypeError\u001b[0m: 'NoneType' object is not callable"
     ]
    }
   ],
   "source": [
    "result=map(None,['abc','def','ghi'])\n",
    "print(type(result))\n",
    "print(list(result))"
   ]
  },
  {
   "cell_type": "code",
   "execution_count": null,
   "metadata": {},
   "outputs": [],
   "source": []
  },
  {
   "cell_type": "code",
   "execution_count": null,
   "metadata": {},
   "outputs": [],
   "source": [
    "# filter:\n",
    "-filter () method filters the given iterable with the help of a given function\n",
    "- syntax:\n",
    "    - filter(function,iterable)"
   ]
  },
  {
   "cell_type": "code",
   "execution_count": 60,
   "metadata": {},
   "outputs": [
    {
     "data": {
      "text/plain": [
       "['a', 'b']"
      ]
     },
     "execution_count": 60,
     "metadata": {},
     "output_type": "execute_result"
    }
   ],
   "source": [
    "li=[1,2,'a','b',3]\n",
    "def isdigit(i):\n",
    "    i=str(i)\n",
    "    if i.isdigit():\n",
    "        return False\n",
    "    return i\n",
    "list(filter(isdigit,li))"
   ]
  },
  {
   "cell_type": "code",
   "execution_count": 63,
   "metadata": {},
   "outputs": [
    {
     "name": "stdout",
     "output_type": "stream",
     "text": [
      "a\n",
      "e\n",
      "i\n",
      "o\n"
     ]
    }
   ],
   "source": [
    "alphabets=['a','b','c','d','e','f','g','h','i','o']\n",
    "def filtervowels(alphabet):\n",
    "    vowels=['a','e','i','o','u']\n",
    "    if (alphabet in  vowels):\n",
    "        return True\n",
    "    else:\n",
    "        return False\n",
    "result=filter(filtervowels,alphabets)\n",
    "#print(list(result))\n",
    "for i in result:\n",
    "    print(i)"
   ]
  },
  {
   "cell_type": "code",
   "execution_count": null,
   "metadata": {},
   "outputs": [],
   "source": [
    "-filter used to check whether given element is boolean or not"
   ]
  },
  {
   "cell_type": "code",
   "execution_count": 67,
   "metadata": {},
   "outputs": [
    {
     "name": "stdout",
     "output_type": "stream",
     "text": [
      "1\n",
      "a\n",
      "True\n",
      "0\n",
      "jhfghvhhjv\n"
     ]
    }
   ],
   "source": [
    "r=[1,'a',0,True,'0',False,'jhfghvhhjv']\n",
    "result=filter(None,r)\n",
    "for i in result:\n",
    "    print(i)"
   ]
  },
  {
   "cell_type": "code",
   "execution_count": null,
   "metadata": {},
   "outputs": [],
   "source": []
  },
  {
   "cell_type": "code",
   "execution_count": null,
   "metadata": {},
   "outputs": [],
   "source": [
    "#lambda:\n",
    "- python lambda is  just a function without a name or anonymous function.\n",
    "#syn:\n",
    "lambda argument : expression\n",
    "- lambda takes 0 or more arguments but only one expression."
   ]
  },
  {
   "cell_type": "code",
   "execution_count": 72,
   "metadata": {},
   "outputs": [
    {
     "data": {
      "text/plain": [
       "12"
      ]
     },
     "execution_count": 72,
     "metadata": {},
     "output_type": "execute_result"
    }
   ],
   "source": [
    "#single argument\n",
    "r=lambda x:x*3\n",
    "r(4)"
   ]
  },
  {
   "cell_type": "code",
   "execution_count": 74,
   "metadata": {},
   "outputs": [
    {
     "data": {
      "text/plain": [
       "65536"
      ]
     },
     "execution_count": 74,
     "metadata": {},
     "output_type": "execute_result"
    }
   ],
   "source": [
    "#multiple argument\n",
    "r=lambda x,y:x**y\n",
    "r(4,8)"
   ]
  },
  {
   "cell_type": "code",
   "execution_count": 75,
   "metadata": {},
   "outputs": [
    {
     "data": {
      "text/plain": [
       "8"
      ]
     },
     "execution_count": 75,
     "metadata": {},
     "output_type": "execute_result"
    }
   ],
   "source": [
    "# without arguments\n",
    "r=lambda :2**3\n",
    "r()"
   ]
  },
  {
   "cell_type": "code",
   "execution_count": 76,
   "metadata": {},
   "outputs": [
    {
     "name": "stdout",
     "output_type": "stream",
     "text": [
      "[1, 8, 27, 64, 125]\n"
     ]
    }
   ],
   "source": [
    "#- lambda is not iterable.so by using map() or filter()\n",
    "result=map(lambda x:x**3,[1,2,3,4,5])\n",
    "print(list(result))"
   ]
  },
  {
   "cell_type": "code",
   "execution_count": 78,
   "metadata": {},
   "outputs": [
    {
     "name": "stdout",
     "output_type": "stream",
     "text": [
      "[20, 22, 24, 26, 28, 30, 32, 34, 36, 38]\n"
     ]
    }
   ],
   "source": [
    "even=lambda n:n%2==0\n",
    "result=list(filter(even,range(20,40)))\n",
    "print(result)"
   ]
  },
  {
   "cell_type": "code",
   "execution_count": 81,
   "metadata": {},
   "outputs": [
    {
     "name": "stdout",
     "output_type": "stream",
     "text": [
      "[5, 7, 9]\n"
     ]
    }
   ],
   "source": [
    "n1=[1,2,3]\n",
    "n2=[4,5,6]\n",
    "result=list(map(lambda x,y:(x+y),n1,n2))\n",
    "print(result)"
   ]
  },
  {
   "cell_type": "code",
   "execution_count": 82,
   "metadata": {},
   "outputs": [
    {
     "name": "stdout",
     "output_type": "stream",
     "text": [
      "sun\n",
      "wed\n",
      "fri\n",
      "sat\n"
     ]
    }
   ],
   "source": [
    "w=['sun','tues','wed','thus','fri','sat']\n",
    "d=filter(lambda t:t if len(t)==3 else '',w)\n",
    "for i in d:\n",
    "    print(i)"
   ]
  },
  {
   "cell_type": "code",
   "execution_count": null,
   "metadata": {},
   "outputs": [],
   "source": [
    "filter(function,itearble)\n",
    "lambda argument:expression if \n",
    "lambda x:x if len(x)==3"
   ]
  },
  {
   "cell_type": "code",
   "execution_count": null,
   "metadata": {},
   "outputs": [],
   "source": [
    "#task\n",
    "n1=['albert','james','nikola']\n",
    "n2=['einstein','watt','tesla']\n",
    "o/p:['Albert Einstein','James Watt','Nikola Tesla']\n",
    "    (using lambda,map,list)"
   ]
  }
 ],
 "metadata": {
  "kernelspec": {
   "display_name": "Python 3",
   "language": "python",
   "name": "python3"
  },
  "language_info": {
   "codemirror_mode": {
    "name": "ipython",
    "version": 3
   },
   "file_extension": ".py",
   "mimetype": "text/x-python",
   "name": "python",
   "nbconvert_exporter": "python",
   "pygments_lexer": "ipython3",
   "version": "3.7.3"
  }
 },
 "nbformat": 4,
 "nbformat_minor": 2
}
