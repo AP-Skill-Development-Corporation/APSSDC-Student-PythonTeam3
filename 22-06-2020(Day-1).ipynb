{
 "cells": [
  {
   "cell_type": "markdown",
   "metadata": {},
   "source": [
    "## Python Introduction:\n",
    "\n"
   ]
  },
  {
   "cell_type": "markdown",
   "metadata": {},
   "source": [
    "* High Level Language:<br>\n",
    "    * The language which can be understandable by user/human.\n",
    "* Low Level Language:<br>\n",
    "    * The language which can be understand by a Processor/machine (0's and 1's)\n",
    "    \n",
    "#### Python:\n",
    "\n",
    "* Python is a high level language.\n",
    "* The founder of python is guido van rossum\n",
    "* The Python was implemented in the year 1994.\n",
    "\n",
    "### Python versions:\n",
    "\n",
    "* Version 1 ---- 1994\n",
    "* Version 2 ---- 2000\n",
    "* Version 3 ---- 2008\n",
    "* Version 3.8 ---- 2019\n",
    "\n",
    "#### Why Python?\n",
    "\n",
    "* Python easy and simple to learn and develop.\n",
    "* Supports Object Oriented Language\n",
    "* Platform independent.(Jupyter,Python Idle,Pycharm,COlabs)\n",
    "* More number of libraries(Pandas,Numpy,Matplotlib,scipy and so on)\n",
    "* Open Source and Easy to Understand.\n",
    "* Develop different type of applications like web applications,Machine Learning,Data Science,Internet of Things,Artificial Intelligence"
   ]
  },
  {
   "cell_type": "markdown",
   "metadata": {},
   "source": []
  }
 ],
 "metadata": {
  "kernelspec": {
   "display_name": "Python 3",
   "language": "python",
   "name": "python3"
  },
  "language_info": {
   "codemirror_mode": {
    "name": "ipython",
    "version": 3
   },
   "file_extension": ".py",
   "mimetype": "text/x-python",
   "name": "python",
   "nbconvert_exporter": "python",
   "pygments_lexer": "ipython3",
   "version": "3.7.3"
  }
 },
 "nbformat": 4,
 "nbformat_minor": 2
}
