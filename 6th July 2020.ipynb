{
 "cells": [
  {
   "cell_type": "markdown",
   "metadata": {},
   "source": [
    "# Object oriented Programming\n",
    "- Class\n",
    "    - collection of data and methods\n",
    "- objects\n",
    "    - instance of a class\n",
    "- inheritance"
   ]
  },
  {
   "cell_type": "code",
   "execution_count": null,
   "metadata": {},
   "outputs": [],
   "source": [
    "# class syntax\n",
    "class classname:\n",
    "    def functionName:\n",
    "        statements\n",
    "    statements\n",
    "obj = classname()"
   ]
  },
  {
   "cell_type": "code",
   "execution_count": 1,
   "metadata": {},
   "outputs": [
    {
     "data": {
      "text/plain": [
       "<__main__.Sample at 0x1ee3b42a208>"
      ]
     },
     "execution_count": 1,
     "metadata": {},
     "output_type": "execute_result"
    }
   ],
   "source": [
    "class Sample: # class\n",
    "    pass\n",
    "\n",
    "ob = Sample() # object\n",
    "ob"
   ]
  },
  {
   "cell_type": "code",
   "execution_count": 3,
   "metadata": {},
   "outputs": [
    {
     "data": {
      "text/plain": [
       "<__main__.Example at 0x1ee3b42a668>"
      ]
     },
     "execution_count": 3,
     "metadata": {},
     "output_type": "execute_result"
    }
   ],
   "source": [
    "class Example:\n",
    "    '''this is a docstring example'''\n",
    "\n",
    "a = Example()\n",
    "a"
   ]
  },
  {
   "cell_type": "code",
   "execution_count": 4,
   "metadata": {},
   "outputs": [
    {
     "data": {
      "text/plain": [
       "'this is a docstring example'"
      ]
     },
     "execution_count": 4,
     "metadata": {},
     "output_type": "execute_result"
    }
   ],
   "source": [
    "a.__doc__"
   ]
  },
  {
   "cell_type": "code",
   "execution_count": 5,
   "metadata": {},
   "outputs": [
    {
     "name": "stdout",
     "output_type": "stream",
     "text": [
      "Constructor has executed\n",
      "Constructor has executed\n",
      "<__main__.Student object at 0x000001EE3B42AEF0>\n",
      "<__main__.Student object at 0x000001EE3B42AF98>\n"
     ]
    }
   ],
   "source": [
    "class Student:\n",
    "    def __init__(self,rollno,name):\n",
    "        self.rollno =rollno\n",
    "        self.name = name\n",
    "        print(\"Constructor has executed\")\n",
    "\n",
    "a = Student(123,'poojitha')\n",
    "b = Student(456,\"sudha\")\n",
    "print(a)\n",
    "print(b)    "
   ]
  },
  {
   "cell_type": "code",
   "execution_count": 14,
   "metadata": {},
   "outputs": [
    {
     "name": "stdout",
     "output_type": "stream",
     "text": [
      "in init method of employee class\n",
      "employee id is:  1234876\n",
      "employee name is:  python\n"
     ]
    }
   ],
   "source": [
    "class Employee:\n",
    "    def __init__(self,empid,empname):\n",
    "        self.empid = empid\n",
    "        self.empname = empname\n",
    "        print(\"in init method of employee class\")\n",
    "    def show(self):\n",
    "        print(\"employee id is: \",self.empid)\n",
    "        print(\"employee name is: \",self.empname)\n",
    "        \n",
    "abc = Employee(1234876,\"python\")\n",
    "abc.show()"
   ]
  },
  {
   "cell_type": "code",
   "execution_count": 15,
   "metadata": {},
   "outputs": [
    {
     "name": "stdout",
     "output_type": "stream",
     "text": [
      "addition: 30\n"
     ]
    }
   ],
   "source": [
    "class Calci:\n",
    "    def __init__(self,num1,num2):\n",
    "        self.num1 = num1\n",
    "        self.num2 = num2\n",
    "    def add(self):\n",
    "        print(\"addition:\",self.num1 + self.num2)\n",
    "\n",
    "ab = Calci(10,20)\n",
    "ab.add()"
   ]
  },
  {
   "cell_type": "markdown",
   "metadata": {},
   "source": [
    "### Types of methods\n",
    "- instance method\n",
    "- class method\n",
    "- static method"
   ]
  },
  {
   "cell_type": "code",
   "execution_count": 19,
   "metadata": {},
   "outputs": [
    {
     "name": "stdout",
     "output_type": "stream",
     "text": [
      "name: name\n",
      "empid: 12345\n",
      "Salary 13456\n",
      "Company name is  APSSDC\n",
      "12\n"
     ]
    }
   ],
   "source": [
    "class EmployeeDetails:\n",
    "    cname = \"APSSDC\"\n",
    "    def __init__(self,empid,name,salary):\n",
    "        self.empid = empid\n",
    "        self.name = name\n",
    "        self.salary = salary\n",
    "    \n",
    "    def display(self): # instance method\n",
    "        print(\"name:\",self.name)\n",
    "        print(\"empid:\",self.empid)\n",
    "        print(\"Salary\",self.salary)\n",
    "        \n",
    "    def Company(cls): # class method\n",
    "        print(\"Company name is \",cls.cname)\n",
    "        \n",
    "    def mul(d,f): # static method\n",
    "        print(d*f)\n",
    "    \n",
    "    \n",
    "a = EmployeeDetails(12345,\"name\",13456)\n",
    "a.display()  \n",
    "a.Company()    \n",
    "EmployeeDetails.mul(3,4)"
   ]
  },
  {
   "cell_type": "markdown",
   "metadata": {},
   "source": [
    "### Inheritance:\n",
    " - Acquiring properties from parent class to child class\n",
    "####  Types of inheritance\n",
    "- Single\n",
    "- Multiple\n",
    "- multilevel\n",
    "- Hierachical"
   ]
  },
  {
   "cell_type": "code",
   "execution_count": 21,
   "metadata": {},
   "outputs": [
    {
     "name": "stdout",
     "output_type": "stream",
     "text": [
      "three method\n",
      "one method\n",
      "two method\n"
     ]
    }
   ],
   "source": [
    "# Single Inheritance: first ---> second\n",
    "\n",
    "class first: # parent class\n",
    "    def one(self):\n",
    "        print(\"one method\")\n",
    "    def two(self):\n",
    "        print(\"two method\")\n",
    "        \n",
    "class second(first): # child class\n",
    "    def three(self):\n",
    "        print(\"three method\")\n",
    "    def four(self):\n",
    "        print(\"four method\")\n",
    "        \n",
    "a = second()\n",
    "a.three()\n",
    "a.one()\n",
    "a.two()"
   ]
  },
  {
   "cell_type": "markdown",
   "metadata": {},
   "source": [
    "### Multiple Inheritance\n",
    "- If a class is derived from more than one parent class then we say it as multiple inheritance"
   ]
  },
  {
   "cell_type": "code",
   "execution_count": 3,
   "metadata": {},
   "outputs": [
    {
     "name": "stdout",
     "output_type": "stream",
     "text": [
      "Mothername is: sita\n",
      "fathername is: ram\n",
      "Parent class: sita\n",
      "Parent class: ram\n"
     ]
    }
   ],
   "source": [
    "class Parent:\n",
    "    mothername=\"\"\n",
    "\n",
    "    def mother(self):\n",
    "        print(\"Parent class:\",self.mothername)\n",
    "\n",
    "class ParentOne:\n",
    "    fathername=\"\"\n",
    "\n",
    "    def Father(self):\n",
    "        print(\"Parent class:\",self.fathername)\n",
    "        \n",
    "class child(Parent,ParentOne):\n",
    "    def parents(self):\n",
    "        print(\"Mothername is:\",self.mothername)\n",
    "        print(\"fathername is:\",self.fathername)\n",
    "        \n",
    "        \n",
    "s = child()\n",
    "s.mothername = \"sita\"\n",
    "s.fathername = \"ram\"\n",
    "s.parents()\n",
    "s.mother()\n",
    "s.Father()"
   ]
  },
  {
   "cell_type": "code",
   "execution_count": null,
   "metadata": {},
   "outputs": [],
   "source": [
    "# Task\n",
    "\n",
    "## Inpatient : \n",
    "# name\n",
    "# mbl number\n",
    "# address\n",
    "# disease name\n",
    "# staycount\n",
    "# type of ward\n",
    "# age\n",
    "\n",
    "## Outpatient:\n",
    "# name\n",
    "# mbl number\n",
    "# address\n",
    "# age"
   ]
  },
  {
   "cell_type": "code",
   "execution_count": 6,
   "metadata": {},
   "outputs": [
    {
     "name": "stdout",
     "output_type": "stream",
     "text": [
      "grand father\n",
      "father\n",
      "father\n",
      "grand father\n"
     ]
    }
   ],
   "source": [
    "# Multilevel Inheritance\n",
    "# base --> Intermediate class --> child \n",
    "\n",
    "class GrandFather:\n",
    "    grandfathername =\"\"\n",
    "    def grandfather(self):\n",
    "        print(self.grandfathername)\n",
    "        \n",
    "class Father(GrandFather):\n",
    "    fathername =\"\"\n",
    "    def father(self):\n",
    "        print(self.fathername)\n",
    "        \n",
    "class child(Father):\n",
    "    def son(self):\n",
    "        print(self.grandfathername)\n",
    "        print(self.fathername)\n",
    "\n",
    "        \n",
    "s1 = child()\n",
    "s1.fathername = \"father\"\n",
    "s1.grandfathername = \"grand father\"\n",
    "s1.son()\n",
    "s1.father()\n",
    "s1.grandfather()"
   ]
  },
  {
   "cell_type": "code",
   "execution_count": null,
   "metadata": {},
   "outputs": [],
   "source": [
    "# vehicles task\n",
    "\n",
    "## two wheelers\n",
    "# name\n",
    "# fueltype or not\n",
    "# travelers count\n",
    "\n",
    "# three wheelers\n",
    "# name\n",
    "# travelers count\n",
    "\n",
    "# four wheelers\n",
    "# name\n",
    "# travlers count"
   ]
  },
  {
   "cell_type": "code",
   "execution_count": 7,
   "metadata": {},
   "outputs": [],
   "source": [
    "# hierarichal inheritance\n",
    "# one or more  classes are derived from a single parent class"
   ]
  },
  {
   "cell_type": "code",
   "execution_count": 12,
   "metadata": {},
   "outputs": [
    {
     "name": "stdout",
     "output_type": "stream",
     "text": [
      "this is parent class\n",
      "this is parent class\n",
      "this is chilld1 class\n",
      "this is child2 class\n"
     ]
    }
   ],
   "source": [
    "class parent:\n",
    "    def parent(self):\n",
    "        print(\"this is parent class\")\n",
    "        \n",
    "class child1(parent):\n",
    "    def child1(self):\n",
    "        print(\"this is chilld1 class\")\n",
    "        \n",
    "class child2(parent):\n",
    "    def child2(self):\n",
    "        print(\"this is child2 class\")\n",
    "    \n",
    "ob1 = child1()\n",
    "ob2 = child2()\n",
    "\n",
    "ob1.parent()\n",
    "ob2.parent()\n",
    "\n",
    "ob1.child1()\n",
    "ob2.child2()"
   ]
  },
  {
   "cell_type": "code",
   "execution_count": null,
   "metadata": {},
   "outputs": [],
   "source": []
  }
 ],
 "metadata": {
  "kernelspec": {
   "display_name": "Python 3",
   "language": "python",
   "name": "python3"
  },
  "language_info": {
   "codemirror_mode": {
    "name": "ipython",
    "version": 3
   },
   "file_extension": ".py",
   "mimetype": "text/x-python",
   "name": "python",
   "nbconvert_exporter": "python",
   "pygments_lexer": "ipython3",
   "version": "3.7.1"
  }
 },
 "nbformat": 4,
 "nbformat_minor": 2
}
