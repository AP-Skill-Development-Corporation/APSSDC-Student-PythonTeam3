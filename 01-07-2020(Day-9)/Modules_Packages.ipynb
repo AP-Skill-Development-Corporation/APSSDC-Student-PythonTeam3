{
 "cells": [
  {
   "cell_type": "markdown",
   "metadata": {},
   "source": [
    "# Day Objectives:\n",
    "\n",
    "## Modules\n",
    "\n",
    "* A file containing a set of functions is called Module\n",
    "* To create a module just save the code you want in a file with the file extension .py\n",
    "* ```syntax```  <br>\n",
    "        module_name.function_name\n",
    "        \n",
    "    \n",
    "* **Types of Modules**\n",
    "    \n",
    "    * Pre-defined \n",
    "        * Inbuild modules which are included during installation\n",
    "            * platform,sys,math,random,caledar,re..etc\n",
    "            \n",
    "    * User defined\n",
    "        * which is created by user"
   ]
  },
  {
   "cell_type": "code",
   "execution_count": 2,
   "metadata": {
    "collapsed": true
   },
   "outputs": [
    {
     "name": "stdout",
     "output_type": "stream",
     "text": [
      "\n",
      "Please wait a moment while I gather a list of all available modules...\n",
      "\n",
      "Crypto              bz2                 mimetypes           sortedcollections\n",
      "Cython              cProfile            mistune             sortedcontainers\n",
      "IPython             calendar            mkl                 soupsieve\n",
      "OpenSSL             certifi             mkl_fft             sphinx\n",
      "PIL                 cffi                mkl_random          sphinxcontrib\n",
      "PyQt5               cgi                 mmap                sphinxify\n",
      "__future__          cgitb               mmapfile            spyder\n",
      "_abc                chardet             mmsystem            spyder_breakpoints\n",
      "_ast                chunk               mock                spyder_io_dcm\n",
      "_asyncio            click               module              spyder_io_hdf5\n",
      "_bisect             cloudpickle         modulefinder        spyder_kernels\n",
      "_blake2             clyent              more_itertools      spyder_profiler\n",
      "_bootlocale         cmath               mpmath              spyder_pylint\n",
      "_bz2                cmd                 msgpack             sqlalchemy\n",
      "_cffi_backend       code                msilib              sqlite3\n",
      "_codecs             codecs              msvcrt              sre_compile\n",
      "_codecs_cn          codeop              multipledispatch    sre_constants\n",
      "_codecs_hk          collections         multiprocessing     sre_parse\n",
      "_codecs_iso2022     colorama            navigator_updater   ssl\n",
      "_codecs_jp          colorsys            nbconvert           sspi\n",
      "_codecs_kr          commctrl            nbformat            sspicon\n",
      "_codecs_tw          compileall          netbios             stat\n",
      "_collections        comtypes            netrc               statistics\n",
      "_collections_abc    concurrent          networkx            statsmodels\n",
      "_compat_pickle      conda               nltk                storemagic\n",
      "_compression        conda_build         nntplib             string\n",
      "_contextvars        conda_env           nose                stringprep\n",
      "_csv                conda_package_handling notebook            struct\n",
      "_ctypes             conda_verify        nt                  subprocess\n",
      "_ctypes_test        conf                ntpath              sunau\n",
      "_datetime           configparser        ntsecuritycon       symbol\n",
      "_decimal            contextlib          nturl2path          sympy\n",
      "_dummy_thread       contextlib2         numba               sympyprinting\n",
      "_elementtree        contextvars         numbers             symtable\n",
      "_functools          copy                numexpr             sys\n",
      "_hashlib            copyreg             numpy               sysconfig\n",
      "_heapq              crypt               numpydoc            tables\n",
      "_imp                cryptography        odbc                tabnanny\n",
      "_io                 csv                 olefile             tarfile\n",
      "_json               ctypes              opcode              tblib\n",
      "_locale             curl                openpyxl            telnetlib\n",
      "_lsprof             curses              operator            tempfile\n",
      "_lzma               cwp                 optparse            terminado\n",
      "_markupbase         cycler              os                  test\n",
      "_md5                cython              packaging           test_data\n",
      "_msi                cythonmagic         pandas              test_pycosat\n",
      "_multibytecodec     cytoolz             pandocfilters       testpath\n",
      "_multiprocessing    dask                parser              tests\n",
      "_nsis               dataclasses         parso               textwrap\n",
      "_opcode             datetime            partd               this\n",
      "_operator           dateutil            past                threading\n",
      "_osx_support        dbi                 path                time\n",
      "_overlapped         dbm                 pathlib             timeit\n",
      "_pickle             dde                 pathlib2            timer\n",
      "_py_abc             decimal             patsy               tkinter\n",
      "_pydecimal          decorator           pdb                 tlz\n",
      "_pyio               defusedxml          pep8                token\n",
      "_pylief             difflib             perfmon             tokenize\n",
      "_pyrsistent_version dis                 pickle              toolz\n",
      "_pytest             distributed         pickleshare         tornado\n",
      "_queue              distutils           pickletools         tqdm\n",
      "_random             doctest             pip                 trace\n",
      "_sha1               docutils            pipes               traceback\n",
      "_sha256             dummy_threading     pkg_resources       tracemalloc\n",
      "_sha3               easy_install        pkginfo             traitlets\n",
      "_sha512             email               pkgutil             tty\n",
      "_signal             encodings           platform            turtle\n",
      "_sitebuiltins       ensurepip           plistlib            turtledemo\n",
      "_socket             entrypoints         pluggy              types\n",
      "_sqlite3            enum                ply                 typing\n",
      "_sre                errno               poplib              unicodecsv\n",
      "_ssl                et_xmlfile          posixpath           unicodedata\n",
      "_stat               fastcache           pprint              unittest\n",
      "_string             faulthandler        profile             urllib\n",
      "_strptime           filecmp             prometheus_client   urllib3\n",
      "_struct             fileinput           prompt_toolkit      uu\n",
      "_symtable           filelock            pstats              uuid\n",
      "_system_path        flask               psutil              venv\n",
      "_testbuffer         fnmatch             pty                 warnings\n",
      "_testcapi           formatter           pvectorc            wave\n",
      "_testconsole        fractions           py                  wcwidth\n",
      "_testimportmultiple ftplib              py_compile          weakref\n",
      "_testmultiphase     functools           pyclbr              webbrowser\n",
      "_thread             future              pycodestyle         webencodings\n",
      "_threading_local    gc                  pycosat             werkzeug\n",
      "_tkinter            genericpath         pycparser           wheel\n",
      "_tracemalloc        getopt              pycurl              widgetsnbextension\n",
      "_warnings           getpass             pydoc               win2kras\n",
      "_weakref            gettext             pydoc_data          win32api\n",
      "_weakrefset         gevent              pyexpat             win32clipboard\n",
      "_win32sysloader     glob                pyflakes            win32com\n",
      "_winapi             glob2               pygments            win32con\n",
      "_winxptheme         greenlet            pylab               win32console\n",
      "_yaml               gzip                pylint              win32cred\n",
      "abc                 h5py                pyodbc              win32crypt\n",
      "adodbapi            hashlib             pyparsing           win32cryptcon\n",
      "afxres              heapdict            pyreadline          win32event\n",
      "aifc                heapq               pyrsistent          win32evtlog\n",
      "alabaster           hmac                pytest              win32evtlogutil\n",
      "anaconda_navigator  html                pytest_arraydiff    win32file\n",
      "anaconda_project    html5lib            pytest_doctestplus  win32gui\n",
      "antigravity         http                pytest_openfiles    win32gui_struct\n",
      "argparse            idlelib             pytest_remotedata   win32help\n",
      "array               idna                pythoncom           win32inet\n",
      "asn1crypto          imageio             pytz                win32inetcon\n",
      "ast                 imagesize           pywin               win32job\n",
      "astroid             imaplib             pywin32_testutil    win32lz\n",
      "astropy             imghdr              pywintypes          win32net\n",
      "asynchat            imp                 pywt                win32netcon\n",
      "asyncio             importlib           pyximport           win32pdh\n",
      "asyncore            importlib_metadata  qtawesome           win32pdhquery\n",
      "atexit              inspect             qtconsole           win32pdhutil\n",
      "atomicwrites        io                  qtpy                win32pipe\n",
      "attr                ipaddress           queue               win32print\n",
      "audioop             ipykernel           quopri              win32process\n",
      "autoreload          ipykernel_launcher  random              win32profile\n"
     ]
    },
    {
     "name": "stdout",
     "output_type": "stream",
     "text": [
      "babel               ipython_genutils    rasutil             win32ras\n",
      "backcall            ipywidgets          re                  win32rcparser\n",
      "backports           isapi               readline            win32security\n",
      "base64              isort               regcheck            win32service\n",
      "bdb                 isympy              regutil             win32serviceutil\n",
      "binascii            itertools           reprlib             win32timezone\n",
      "binhex              itsdangerous        requests            win32trace\n",
      "binstar_client      jdcal               rlcompleter         win32traceutil\n",
      "bisect              jedi                rmagic              win32transaction\n",
      "bitarray            jinja2              rope                win32ts\n",
      "bkcharts            joblib              ruamel_yaml         win32ui\n",
      "bleach              json                run                 win32uiole\n",
      "bokeh               json5               runpy               win32verstamp\n",
      "boto                jsonschema          sched               win32wnet\n",
      "bottleneck          jupyter             scipy               win_inet_pton\n",
      "brain_argparse      jupyter_client      scripts             win_unicode_console\n",
      "brain_attrs         jupyter_console     seaborn             wincertstore\n",
      "brain_builtin_inference jupyter_core        secrets             winerror\n",
      "brain_collections   jupyterlab          select              winioctlcon\n",
      "brain_curses        jupyterlab_server   selectors           winnt\n",
      "brain_dateutil      keyring             send2trash          winperf\n",
      "brain_fstrings      keyword             servicemanager      winpty\n",
      "brain_functools     kiwisolver          setuptools          winreg\n",
      "brain_gi            lazy_object_proxy   shelve              winsound\n",
      "brain_hashlib       lib2to3             shlex               winxpgui\n",
      "brain_http          libarchive          shutil              winxptheme\n",
      "brain_io            libfuturize         signal              wrapt\n",
      "brain_mechanize     libpasteurize       simplegeneric       wsgiref\n",
      "brain_multiprocessing lief                singledispatch      xdrlib\n",
      "brain_namedtuple_enum linecache           singledispatch_helpers xlrd\n",
      "brain_nose          llvmlite            sip                 xlsxwriter\n",
      "brain_numpy         locale              sipconfig           xlwings\n",
      "brain_pkg_resources locket              sipdistutils        xlwt\n",
      "brain_pytest        logging             site                xml\n",
      "brain_qt            lxml                six                 xmlrpc\n",
      "brain_random        lzma                skimage             xxsubtype\n",
      "brain_re            macpath             sklearn             yaml\n",
      "brain_six           mailbox             smtpd               zict\n",
      "brain_ssl           mailcap             smtplib             zipapp\n",
      "brain_subprocess    markupsafe          sndhdr              zipfile\n",
      "brain_threading     marshal             snowballstemmer     zipimport\n",
      "brain_typing        math                socket              zipp\n",
      "brain_uuid          matplotlib          socketserver        zlib\n",
      "bs4                 mccabe              socks               zmq\n",
      "builtins            menuinst            sockshandler        \n",
      "\n",
      "Enter any module name to get more help.  Or, type \"modules spam\" to search\n",
      "for modules whose name or summary contain the string \"spam\".\n",
      "\n"
     ]
    }
   ],
   "source": [
    "help(\"modules\")"
   ]
  },
  {
   "cell_type": "code",
   "execution_count": 3,
   "metadata": {},
   "outputs": [],
   "source": [
    "import platform"
   ]
  },
  {
   "cell_type": "code",
   "execution_count": 4,
   "metadata": {},
   "outputs": [
    {
     "data": {
      "text/plain": [
       "'Windows'"
      ]
     },
     "execution_count": 4,
     "metadata": {},
     "output_type": "execute_result"
    }
   ],
   "source": [
    "platform.system()"
   ]
  },
  {
   "cell_type": "code",
   "execution_count": 5,
   "metadata": {},
   "outputs": [
    {
     "data": {
      "text/plain": [
       "'3.7.3 (default, Apr 24 2019, 15:29:51) [MSC v.1915 64 bit (AMD64)]'"
      ]
     },
     "execution_count": 5,
     "metadata": {},
     "output_type": "execute_result"
    }
   ],
   "source": [
    "import sys\n",
    "sys.version"
   ]
  },
  {
   "cell_type": "code",
   "execution_count": 6,
   "metadata": {},
   "outputs": [],
   "source": [
    "import math"
   ]
  },
  {
   "cell_type": "code",
   "execution_count": 9,
   "metadata": {},
   "outputs": [
    {
     "data": {
      "text/plain": [
       "75.39822368615503"
      ]
     },
     "execution_count": 9,
     "metadata": {},
     "output_type": "execute_result"
    }
   ],
   "source": [
    "math.pi*4*6"
   ]
  },
  {
   "cell_type": "code",
   "execution_count": 12,
   "metadata": {},
   "outputs": [
    {
     "data": {
      "text/plain": [
       "1.0471975511965976"
      ]
     },
     "execution_count": 12,
     "metadata": {},
     "output_type": "execute_result"
    }
   ],
   "source": [
    "math.pi/3"
   ]
  },
  {
   "cell_type": "code",
   "execution_count": 13,
   "metadata": {},
   "outputs": [
    {
     "data": {
      "text/plain": [
       "4.0"
      ]
     },
     "execution_count": 13,
     "metadata": {},
     "output_type": "execute_result"
    }
   ],
   "source": [
    "math.sqrt(16)"
   ]
  },
  {
   "cell_type": "code",
   "execution_count": 15,
   "metadata": {},
   "outputs": [
    {
     "data": {
      "text/plain": [
       "2435.0"
      ]
     },
     "execution_count": 15,
     "metadata": {},
     "output_type": "execute_result"
    }
   ],
   "source": [
    "math.fabs(2435)   #  | -12 |  = 12"
   ]
  },
  {
   "cell_type": "code",
   "execution_count": 16,
   "metadata": {
    "collapsed": true
   },
   "outputs": [
    {
     "data": {
      "text/plain": [
       "['__doc__',\n",
       " '__loader__',\n",
       " '__name__',\n",
       " '__package__',\n",
       " '__spec__',\n",
       " 'acos',\n",
       " 'acosh',\n",
       " 'asin',\n",
       " 'asinh',\n",
       " 'atan',\n",
       " 'atan2',\n",
       " 'atanh',\n",
       " 'ceil',\n",
       " 'copysign',\n",
       " 'cos',\n",
       " 'cosh',\n",
       " 'degrees',\n",
       " 'e',\n",
       " 'erf',\n",
       " 'erfc',\n",
       " 'exp',\n",
       " 'expm1',\n",
       " 'fabs',\n",
       " 'factorial',\n",
       " 'floor',\n",
       " 'fmod',\n",
       " 'frexp',\n",
       " 'fsum',\n",
       " 'gamma',\n",
       " 'gcd',\n",
       " 'hypot',\n",
       " 'inf',\n",
       " 'isclose',\n",
       " 'isfinite',\n",
       " 'isinf',\n",
       " 'isnan',\n",
       " 'ldexp',\n",
       " 'lgamma',\n",
       " 'log',\n",
       " 'log10',\n",
       " 'log1p',\n",
       " 'log2',\n",
       " 'modf',\n",
       " 'nan',\n",
       " 'pi',\n",
       " 'pow',\n",
       " 'radians',\n",
       " 'remainder',\n",
       " 'sin',\n",
       " 'sinh',\n",
       " 'sqrt',\n",
       " 'tan',\n",
       " 'tanh',\n",
       " 'tau',\n",
       " 'trunc']"
      ]
     },
     "execution_count": 16,
     "metadata": {},
     "output_type": "execute_result"
    }
   ],
   "source": [
    "dir(math)"
   ]
  },
  {
   "cell_type": "code",
   "execution_count": 17,
   "metadata": {},
   "outputs": [],
   "source": [
    "import random"
   ]
  },
  {
   "cell_type": "code",
   "execution_count": 18,
   "metadata": {},
   "outputs": [
    {
     "data": {
      "text/plain": [
       "0.5005551096622893"
      ]
     },
     "execution_count": 18,
     "metadata": {},
     "output_type": "execute_result"
    }
   ],
   "source": [
    "random.random()  # in between 0 - 1"
   ]
  },
  {
   "cell_type": "code",
   "execution_count": 24,
   "metadata": {},
   "outputs": [
    {
     "data": {
      "text/plain": [
       "14"
      ]
     },
     "execution_count": 24,
     "metadata": {},
     "output_type": "execute_result"
    }
   ],
   "source": [
    "random.randint(10,100)   # lower boundary and upper boundary"
   ]
  },
  {
   "cell_type": "code",
   "execution_count": 45,
   "metadata": {},
   "outputs": [
    {
     "data": {
      "text/plain": [
       "907138"
      ]
     },
     "execution_count": 45,
     "metadata": {},
     "output_type": "execute_result"
    }
   ],
   "source": [
    "# Task:\n",
    "# Generate 6 digit OTP\n",
    "random.randint(100000,999999)"
   ]
  },
  {
   "cell_type": "code",
   "execution_count": 43,
   "metadata": {},
   "outputs": [
    {
     "data": {
      "text/plain": [
       "610012"
      ]
     },
     "execution_count": 43,
     "metadata": {},
     "output_type": "execute_result"
    }
   ],
   "source": [
    "random.randint(1,1000000)"
   ]
  },
  {
   "cell_type": "code",
   "execution_count": null,
   "metadata": {},
   "outputs": [],
   "source": [
    "for i in range(6):\n",
    "    s = int(input())\n",
    "    g = math.sqrt(s)\n",
    "    print(g)"
   ]
  },
  {
   "cell_type": "code",
   "execution_count": null,
   "metadata": {},
   "outputs": [],
   "source": [
    "1 - 100\n",
    "1\n",
    "4\n",
    "9\n",
    "16\n",
    "25\n",
    "36\n",
    "49\n",
    "64\n",
    "81\n",
    "100\n",
    "\n"
   ]
  },
  {
   "cell_type": "code",
   "execution_count": null,
   "metadata": {},
   "outputs": [],
   "source": [
    "range(startval,endval,step)\n",
    "randint(lb,ub+1)"
   ]
  },
  {
   "cell_type": "code",
   "execution_count": 2,
   "metadata": {},
   "outputs": [],
   "source": [
    "import calendar"
   ]
  },
  {
   "cell_type": "code",
   "execution_count": 3,
   "metadata": {
    "collapsed": true
   },
   "outputs": [
    {
     "name": "stdout",
     "output_type": "stream",
     "text": [
      "                                  2020\n",
      "\n",
      "      January                   February                   March\n",
      "Mo Tu We Th Fr Sa Su      Mo Tu We Th Fr Sa Su      Mo Tu We Th Fr Sa Su\n",
      "       1  2  3  4  5                      1  2                         1\n",
      " 6  7  8  9 10 11 12       3  4  5  6  7  8  9       2  3  4  5  6  7  8\n",
      "13 14 15 16 17 18 19      10 11 12 13 14 15 16       9 10 11 12 13 14 15\n",
      "20 21 22 23 24 25 26      17 18 19 20 21 22 23      16 17 18 19 20 21 22\n",
      "27 28 29 30 31            24 25 26 27 28 29         23 24 25 26 27 28 29\n",
      "                                                    30 31\n",
      "\n",
      "       April                      May                       June\n",
      "Mo Tu We Th Fr Sa Su      Mo Tu We Th Fr Sa Su      Mo Tu We Th Fr Sa Su\n",
      "       1  2  3  4  5                   1  2  3       1  2  3  4  5  6  7\n",
      " 6  7  8  9 10 11 12       4  5  6  7  8  9 10       8  9 10 11 12 13 14\n",
      "13 14 15 16 17 18 19      11 12 13 14 15 16 17      15 16 17 18 19 20 21\n",
      "20 21 22 23 24 25 26      18 19 20 21 22 23 24      22 23 24 25 26 27 28\n",
      "27 28 29 30               25 26 27 28 29 30 31      29 30\n",
      "\n",
      "        July                     August                  September\n",
      "Mo Tu We Th Fr Sa Su      Mo Tu We Th Fr Sa Su      Mo Tu We Th Fr Sa Su\n",
      "       1  2  3  4  5                      1  2          1  2  3  4  5  6\n",
      " 6  7  8  9 10 11 12       3  4  5  6  7  8  9       7  8  9 10 11 12 13\n",
      "13 14 15 16 17 18 19      10 11 12 13 14 15 16      14 15 16 17 18 19 20\n",
      "20 21 22 23 24 25 26      17 18 19 20 21 22 23      21 22 23 24 25 26 27\n",
      "27 28 29 30 31            24 25 26 27 28 29 30      28 29 30\n",
      "                          31\n",
      "\n",
      "      October                   November                  December\n",
      "Mo Tu We Th Fr Sa Su      Mo Tu We Th Fr Sa Su      Mo Tu We Th Fr Sa Su\n",
      "          1  2  3  4                         1          1  2  3  4  5  6\n",
      " 5  6  7  8  9 10 11       2  3  4  5  6  7  8       7  8  9 10 11 12 13\n",
      "12 13 14 15 16 17 18       9 10 11 12 13 14 15      14 15 16 17 18 19 20\n",
      "19 20 21 22 23 24 25      16 17 18 19 20 21 22      21 22 23 24 25 26 27\n",
      "26 27 28 29 30 31         23 24 25 26 27 28 29      28 29 30 31\n",
      "                          30\n",
      "\n"
     ]
    }
   ],
   "source": [
    "import calendar\n",
    "print(calendar.calendar(2020))"
   ]
  },
  {
   "cell_type": "code",
   "execution_count": 4,
   "metadata": {},
   "outputs": [
    {
     "name": "stdout",
     "output_type": "stream",
     "text": [
      "   November 2020\n",
      "Mo Tu We Th Fr Sa Su\n",
      "                   1\n",
      " 2  3  4  5  6  7  8\n",
      " 9 10 11 12 13 14 15\n",
      "16 17 18 19 20 21 22\n",
      "23 24 25 26 27 28 29\n",
      "30\n",
      "\n"
     ]
    }
   ],
   "source": [
    "print(calendar.month(2020,11))"
   ]
  },
  {
   "cell_type": "code",
   "execution_count": 4,
   "metadata": {},
   "outputs": [],
   "source": [
    "import module"
   ]
  },
  {
   "cell_type": "code",
   "execution_count": 1,
   "metadata": {},
   "outputs": [
    {
     "data": {
      "text/plain": [
       "False"
      ]
     },
     "execution_count": 1,
     "metadata": {},
     "output_type": "execute_result"
    }
   ],
   "source": [
    "import module\n",
    "module.isleap(2021)"
   ]
  },
  {
   "cell_type": "code",
   "execution_count": 2,
   "metadata": {},
   "outputs": [
    {
     "data": {
      "text/plain": [
       "'Hello  lavanya  How do you do.. !'"
      ]
     },
     "execution_count": 2,
     "metadata": {},
     "output_type": "execute_result"
    }
   ],
   "source": [
    "module.hello(\"lavanya\")"
   ]
  },
  {
   "cell_type": "code",
   "execution_count": null,
   "metadata": {},
   "outputs": [],
   "source": []
  },
  {
   "cell_type": "code",
   "execution_count": null,
   "metadata": {},
   "outputs": [],
   "source": []
  },
  {
   "cell_type": "code",
   "execution_count": null,
   "metadata": {},
   "outputs": [],
   "source": []
  },
  {
   "cell_type": "markdown",
   "metadata": {},
   "source": [
    "## Packages\n",
    "* A package contains all the files you need for a module.\n",
    "* Different Ways to import packages\n",
    "    * import package\n",
    "    * import package.module_name\n",
    "    * from package import module_name as name\n",
    "    * from package import * \n",
    "    "
   ]
  },
  {
   "cell_type": "code",
   "execution_count": 8,
   "metadata": {},
   "outputs": [],
   "source": [
    "import package.mobile"
   ]
  },
  {
   "cell_type": "code",
   "execution_count": 9,
   "metadata": {},
   "outputs": [
    {
     "name": "stdout",
     "output_type": "stream",
     "text": [
      "Features :\n",
      "Battery : 5000mhg \n",
      " RAM : 6GB \n",
      " cost : 12000rs \n"
     ]
    }
   ],
   "source": [
    "package.mobile.vivo()"
   ]
  },
  {
   "cell_type": "code",
   "execution_count": 6,
   "metadata": {},
   "outputs": [],
   "source": [
    "import package.mobile as mb"
   ]
  },
  {
   "cell_type": "code",
   "execution_count": 7,
   "metadata": {},
   "outputs": [
    {
     "name": "stdout",
     "output_type": "stream",
     "text": [
      "Features :\n",
      "Battery : 5000mhg \n",
      " RAM : 6GB \n",
      " cost : 12000rs \n"
     ]
    }
   ],
   "source": [
    "mb.vivo()"
   ]
  },
  {
   "cell_type": "code",
   "execution_count": 11,
   "metadata": {},
   "outputs": [],
   "source": [
    "from package import mobile "
   ]
  },
  {
   "cell_type": "code",
   "execution_count": 12,
   "metadata": {},
   "outputs": [
    {
     "name": "stdout",
     "output_type": "stream",
     "text": [
      "Features :\n",
      "Battery : 5500mhg \n",
      " RAM : 32GB \n",
      " cost : 10000rs \n"
     ]
    }
   ],
   "source": [
    "mobile.realme()"
   ]
  },
  {
   "cell_type": "code",
   "execution_count": 15,
   "metadata": {},
   "outputs": [],
   "source": [
    "from package import * "
   ]
  },
  {
   "cell_type": "code",
   "execution_count": 16,
   "metadata": {},
   "outputs": [
    {
     "name": "stdout",
     "output_type": "stream",
     "text": [
      "Features :\n",
      "Battery : 5000mhg \n",
      " RAM : 6GB \n",
      " cost : 12000rs \n"
     ]
    }
   ],
   "source": [
    "mobile.vivo()"
   ]
  },
  {
   "cell_type": "code",
   "execution_count": null,
   "metadata": {},
   "outputs": [],
   "source": [
    "# task\n",
    "# create one package named as showroom  and in that package create 3 different cars named as IBM, audi, nano  \n",
    "# every module contains 2 functions as features and cost "
   ]
  },
  {
   "cell_type": "markdown",
   "metadata": {},
   "source": [
    "## Regular Expressions\n",
    "* Data Scraping \n",
    "* It is extremely useful for extracting information from text such as code, files, log, spreadsheets or even documents\n",
    "\n",
    "1. search()\n",
    "2. match()\n",
    "3. findall()\n",
    "4. split()\n",
    "5. sub()\n",
    "6. Metacharacters are characters that are interpreted in a special way \n",
    "   *  . - unknown characters\n",
    "   *  ^ - Startswith \n",
    "   *  $ - endswith\n",
    "   * {} - indicates range \n",
    "   * [] - set of characters you wish to match.\n",
    "   \n",
    "   \n",
    "7. re in regx101 website"
   ]
  },
  {
   "cell_type": "code",
   "execution_count": 17,
   "metadata": {},
   "outputs": [],
   "source": [
    "import re"
   ]
  },
  {
   "cell_type": "code",
   "execution_count": 30,
   "metadata": {},
   "outputs": [
    {
     "data": {
      "text/plain": [
       "<re.Match object; span=(1, 5), match='aaaa'>"
      ]
     },
     "execution_count": 30,
     "metadata": {},
     "output_type": "execute_result"
    }
   ],
   "source": [
    "# syntax : re.search(sub_str,data)\n",
    "re.search(\"aaaa\",\"laaaaavanya\")"
   ]
  },
  {
   "cell_type": "code",
   "execution_count": 26,
   "metadata": {},
   "outputs": [
    {
     "data": {
      "text/plain": [
       "<re.Match object; span=(0, 2), match='la'>"
      ]
     },
     "execution_count": 26,
     "metadata": {},
     "output_type": "execute_result"
    }
   ],
   "source": [
    "re.match(\"la\",\"lavanya\")"
   ]
  },
  {
   "cell_type": "code",
   "execution_count": 32,
   "metadata": {
    "collapsed": true
   },
   "outputs": [
    {
     "ename": "NameError",
     "evalue": "name 'match' is not defined",
     "output_type": "error",
     "traceback": [
      "\u001b[1;31m---------------------------------------------------------------------------\u001b[0m",
      "\u001b[1;31mNameError\u001b[0m                                 Traceback (most recent call last)",
      "\u001b[1;32m<ipython-input-32-6ec8951970d9>\u001b[0m in \u001b[0;36m<module>\u001b[1;34m\u001b[0m\n\u001b[1;32m----> 1\u001b[1;33m \u001b[0mmatch\u001b[0m\u001b[1;33m(\u001b[0m\u001b[1;34m\"l\"\u001b[0m\u001b[1;33m,\u001b[0m\u001b[1;34m\"lavs\"\u001b[0m\u001b[1;33m)\u001b[0m\u001b[1;33m\u001b[0m\u001b[1;33m\u001b[0m\u001b[0m\n\u001b[0m",
      "\u001b[1;31mNameError\u001b[0m: name 'match' is not defined"
     ]
    }
   ],
   "source": [
    "match(\"l\",\"lavs\")"
   ]
  },
  {
   "cell_type": "code",
   "execution_count": 29,
   "metadata": {},
   "outputs": [
    {
     "data": {
      "text/plain": [
       "3"
      ]
     },
     "execution_count": 29,
     "metadata": {},
     "output_type": "execute_result"
    }
   ],
   "source": [
    "len(re.findall(\"a\",\"lavanya\"))"
   ]
  },
  {
   "cell_type": "code",
   "execution_count": 34,
   "metadata": {},
   "outputs": [
    {
     "data": {
      "text/plain": [
       "'l*v*ny*'"
      ]
     },
     "execution_count": 34,
     "metadata": {},
     "output_type": "execute_result"
    }
   ],
   "source": [
    "#syntax re.sub(sub_str,replaced_str,data)\n",
    "re.sub(\"a\",\"*\",\"lavanya\")   # replace"
   ]
  },
  {
   "cell_type": "code",
   "execution_count": 44,
   "metadata": {},
   "outputs": [
    {
     "data": {
      "text/plain": [
       "['i', 'am', 'very', 'good']"
      ]
     },
     "execution_count": 44,
     "metadata": {},
     "output_type": "execute_result"
    }
   ],
   "source": [
    "re.split(\"\\s\",\"i am very good\")"
   ]
  },
  {
   "cell_type": "code",
   "execution_count": 39,
   "metadata": {},
   "outputs": [],
   "source": [
    "re.search(\"^l\",\"avanya\")   # ^ startswith "
   ]
  },
  {
   "cell_type": "code",
   "execution_count": 40,
   "metadata": {},
   "outputs": [
    {
     "name": "stdout",
     "output_type": "stream",
     "text": [
      "17fj21435\n",
      "17dfg3645\n"
     ]
    }
   ],
   "source": [
    "li = [\"17fj21435\", \"17dfg3645\",\"18dhf4545\",\"19jf5354\",\"19fjdhgj234\"]\n",
    "for std in li:\n",
    "    if re.search(\"^17\",std):\n",
    "        print(std)\n",
    "        "
   ]
  },
  {
   "cell_type": "code",
   "execution_count": 46,
   "metadata": {},
   "outputs": [
    {
     "name": "stdout",
     "output_type": "stream",
     "text": [
      "17fj21435\n",
      "18dhf4545\n",
      "18dhf4545\n"
     ]
    }
   ],
   "source": [
    "# $ endswith\n",
    "\n",
    "\n",
    "li = [\"17fj21435\", \"17dfg3640\",\"18dhf4545\",\"19jf5354\",\"19fjdhgj234\",\"18dhf4545\"]\n",
    "for std in li:\n",
    "    if re.search(\"5$\",std):\n",
    "        print(std)\n",
    "        "
   ]
  },
  {
   "cell_type": "code",
   "execution_count": 57,
   "metadata": {},
   "outputs": [
    {
     "name": "stdout",
     "output_type": "stream",
     "text": [
      "mounica\n"
     ]
    }
   ],
   "source": [
    "# . - unknown char\n",
    "l = [\"sri\",\"lav\",\"niha\",\"mounica\"]\n",
    "for name in l:\n",
    "    if re.search(\"^.......$\",name):\n",
    "        print(name)"
   ]
  },
  {
   "cell_type": "code",
   "execution_count": 73,
   "metadata": {},
   "outputs": [
    {
     "data": {
      "text/plain": [
       "<re.Match object; span=(0, 5), match='54328'>"
      ]
     },
     "execution_count": 73,
     "metadata": {},
     "output_type": "execute_result"
    }
   ],
   "source": [
    "# [] -- sequence of char\n",
    "# {} -- range of char\n",
    "re.search(\"[0-9]{5}\",\"543287\")"
   ]
  },
  {
   "cell_type": "code",
   "execution_count": 80,
   "metadata": {},
   "outputs": [
    {
     "data": {
      "text/plain": [
       "<re.Match object; span=(0, 10), match='9876543210'>"
      ]
     },
     "execution_count": 80,
     "metadata": {},
     "output_type": "execute_result"
    }
   ],
   "source": [
    "#phone validation\n",
    "re.search(\"^[6-9]{1}[0-9]{9}$\",\"9876543210\")"
   ]
  },
  {
   "cell_type": "code",
   "execution_count": 87,
   "metadata": {},
   "outputs": [
    {
     "data": {
      "text/plain": [
       "<re.Match object; span=(0, 2), match='&*'>"
      ]
     },
     "execution_count": 87,
     "metadata": {},
     "output_type": "execute_result"
    }
   ],
   "source": [
    "#[^a-z][^A-Z][^0-9]\n",
    "re.search(\"[^a-z][^0-9]\",\"&*\")"
   ]
  },
  {
   "cell_type": "code",
   "execution_count": null,
   "metadata": {},
   "outputs": [],
   "source": [
    "# task \n",
    "# create strong password\n",
    "length = 8 - 15\n",
    "one caps\n",
    "one special\n",
    "one or more numeric\n",
    "\n",
    "\n",
    "# email validation\n",
    "8-10 alphabets\n",
    "one @\n",
    "4-9 alpha\n",
    "one . \n",
    "2-5 alpha\n"
   ]
  }
 ],
 "metadata": {
  "kernelspec": {
   "display_name": "Python 3",
   "language": "python",
   "name": "python3"
  },
  "language_info": {
   "codemirror_mode": {
    "name": "ipython",
    "version": 3
   },
   "file_extension": ".py",
   "mimetype": "text/x-python",
   "name": "python",
   "nbconvert_exporter": "python",
   "pygments_lexer": "ipython3",
   "version": "3.7.3"
  }
 },
 "nbformat": 4,
 "nbformat_minor": 2
}
