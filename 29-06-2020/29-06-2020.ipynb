{
 "cells": [
  {
   "cell_type": "markdown",
   "metadata": {},
   "source": [
    "* Introduction to Python\n",
    "* Basics Markdown \n",
    "* Python Basics\n",
    "    * Data type conversion\n",
    "    * Operators\n",
    "    * variables Declaration in python\n",
    "    * Key words\n",
    "    * Loops\n",
    "        * For loop\n",
    "        * While\n",
    "        * Break and Continue\n",
    "    * Conditional Statements\n",
    "    * Strings\n",
    "    * Functions\n",
    "    * Data Structures\n",
    "        * Lists\n",
    "        * Dictionary\n",
    "        \n",
    "    "
   ]
  },
  {
   "cell_type": "code",
   "execution_count": 6,
   "metadata": {},
   "outputs": [
    {
     "data": {
      "text/plain": [
       "5"
      ]
     },
     "execution_count": 6,
     "metadata": {},
     "output_type": "execute_result"
    }
   ],
   "source": [
    "l = [1,2,3,[5,6,7]]\n",
    "l[3][0]"
   ]
  },
  {
   "cell_type": "markdown",
   "metadata": {},
   "source": [
    "### Dictionary:\n",
    "\n",
    "* Dictonary in python is an unordered collection of data elements.\n",
    "* Key and Values are the main keywords in our dictionary.\n",
    "    * Key : unique value.\n",
    "    * Values : these can be repeated.\n",
    "* The dictionary is represented with \"{}\".\n"
   ]
  },
  {
   "cell_type": "markdown",
   "metadata": {},
   "source": [
    "#### Creating a Dictionary:\n",
    "\n"
   ]
  },
  {
   "cell_type": "code",
   "execution_count": 7,
   "metadata": {},
   "outputs": [
    {
     "name": "stdout",
     "output_type": "stream",
     "text": [
      "{}\n"
     ]
    }
   ],
   "source": [
    "d = {} #### Empty dictionary\n",
    "print(d)"
   ]
  },
  {
   "cell_type": "code",
   "execution_count": 8,
   "metadata": {},
   "outputs": [],
   "source": [
    "#### adding elements into a empty dictionary:\n",
    "\n",
    "d[1] = 1 ### dict_name[key_name] = value"
   ]
  },
  {
   "cell_type": "code",
   "execution_count": 10,
   "metadata": {},
   "outputs": [
    {
     "data": {
      "text/plain": [
       "{1: 1, 2: [1, 2, 3, 4]}"
      ]
     },
     "execution_count": 10,
     "metadata": {},
     "output_type": "execute_result"
    }
   ],
   "source": [
    "d[2] = [1,2,3,4] ### adding mutliple value for a key\n",
    "d"
   ]
  },
  {
   "cell_type": "code",
   "execution_count": 13,
   "metadata": {},
   "outputs": [],
   "source": [
    "d['a'] = ['ant','are','apple']\n",
    "d['b'] = [\"ball\",\"bat\",\"brain\",\"brinjal\"]"
   ]
  },
  {
   "cell_type": "code",
   "execution_count": 14,
   "metadata": {},
   "outputs": [
    {
     "name": "stdout",
     "output_type": "stream",
     "text": [
      "{1: 1, 2: [1, 2, 3, 4], 'a': ['ant', 'are', 'apple'], 'b': ['ball', 'bat', 'brain', 'brinjal']}\n"
     ]
    }
   ],
   "source": [
    "print(d)"
   ]
  },
  {
   "cell_type": "code",
   "execution_count": 15,
   "metadata": {},
   "outputs": [
    {
     "name": "stdout",
     "output_type": "stream",
     "text": [
      "{'Niharikaa': [1234567, 'Ece', 'A', 9876543201], 'Lavanya': [2345676, 'ECe', 'A', 987654323456], 'Mounika': [23456787, 'Cse', 'A', 876543234567]}\n"
     ]
    }
   ],
   "source": [
    "student = {\"Niharikaa\" : [1234567,'Ece','A',9876543201],\n",
    "          \"Lavanya\" : [2345676,\"ECe\",\"A\",987654323456],\n",
    "          \"Mounika\" : [23456787,\"Cse\",\"A\",876543234567]}\n",
    "print(student)"
   ]
  },
  {
   "cell_type": "markdown",
   "metadata": {},
   "source": [
    "#### Nested Dictionaries:\n",
    "\n"
   ]
  },
  {
   "cell_type": "code",
   "execution_count": 17,
   "metadata": {},
   "outputs": [
    {
     "name": "stdout",
     "output_type": "stream",
     "text": [
      "{1: 'apssdc', 2: 'Python', 3: {1: 'python', 2: 'programming'}}\n"
     ]
    }
   ],
   "source": [
    "a = {1:\"apssdc\",2:\"Python\",3:{1:\"python\",2:\"programming\"}}\n",
    "print(a)"
   ]
  },
  {
   "cell_type": "markdown",
   "metadata": {},
   "source": [
    "#### Accessing elements from the Dictionary:\n"
   ]
  },
  {
   "cell_type": "code",
   "execution_count": 18,
   "metadata": {},
   "outputs": [
    {
     "data": {
      "text/plain": [
       "{1: 1,\n",
       " 2: [1, 2, 3, 4],\n",
       " 'a': ['ant', 'are', 'apple'],\n",
       " 'b': ['ball', 'bat', 'brain', 'brinjal']}"
      ]
     },
     "execution_count": 18,
     "metadata": {},
     "output_type": "execute_result"
    }
   ],
   "source": [
    "d"
   ]
  },
  {
   "cell_type": "code",
   "execution_count": 19,
   "metadata": {},
   "outputs": [
    {
     "data": {
      "text/plain": [
       "['ball', 'bat', 'brain', 'brinjal']"
      ]
     },
     "execution_count": 19,
     "metadata": {},
     "output_type": "execute_result"
    }
   ],
   "source": [
    "d['b'] ### accessing the elements by using key ."
   ]
  },
  {
   "cell_type": "code",
   "execution_count": 20,
   "metadata": {},
   "outputs": [
    {
     "data": {
      "text/plain": [
       "'brain'"
      ]
     },
     "execution_count": 20,
     "metadata": {},
     "output_type": "execute_result"
    }
   ],
   "source": [
    "d['b'][-2] ### accessing the particular element from values by using key "
   ]
  },
  {
   "cell_type": "code",
   "execution_count": 22,
   "metadata": {},
   "outputs": [
    {
     "data": {
      "text/plain": [
       "'CHINNI'"
      ]
     },
     "execution_count": 22,
     "metadata": {},
     "output_type": "execute_result"
    }
   ],
   "source": [
    "dic = {1: \"RAM\",2: \"ESWAR\",3: {1:\"SWAMY\",2: \"CHINNI\"}}\n",
    "dic[3][2]"
   ]
  },
  {
   "cell_type": "markdown",
   "metadata": {},
   "source": [
    "#### Methods in Dictionary:"
   ]
  },
  {
   "cell_type": "code",
   "execution_count": 24,
   "metadata": {},
   "outputs": [
    {
     "name": "stdout",
     "output_type": "stream",
     "text": [
      "['__class__', '__contains__', '__delattr__', '__delitem__', '__dir__', '__doc__', '__eq__', '__format__', '__ge__', '__getattribute__', '__getitem__', '__gt__', '__hash__', '__init__', '__init_subclass__', '__iter__', '__le__', '__len__', '__lt__', '__ne__', '__new__', '__reduce__', '__reduce_ex__', '__repr__', '__setattr__', '__setitem__', '__sizeof__', '__str__', '__subclasshook__', 'clear', 'copy', 'fromkeys', 'get', 'items', 'keys', 'pop', 'popitem', 'setdefault', 'update', 'values']"
     ]
    }
   ],
   "source": [
    "print(dir(dict),end = \"\")"
   ]
  },
  {
   "cell_type": "code",
   "execution_count": 25,
   "metadata": {},
   "outputs": [
    {
     "data": {
      "text/plain": [
       "{1: 1,\n",
       " 2: [1, 2, 3, 4],\n",
       " 'a': ['ant', 'are', 'apple'],\n",
       " 'b': ['ball', 'bat', 'brain', 'brinjal']}"
      ]
     },
     "execution_count": 25,
     "metadata": {},
     "output_type": "execute_result"
    }
   ],
   "source": [
    "### get method:\n",
    "d"
   ]
  },
  {
   "cell_type": "code",
   "execution_count": 27,
   "metadata": {},
   "outputs": [
    {
     "data": {
      "text/plain": [
       "[1, 2, 3, 4]"
      ]
     },
     "execution_count": 27,
     "metadata": {},
     "output_type": "execute_result"
    }
   ],
   "source": [
    "d.get(2)  ### dictionary_name.get(\"key_name\")"
   ]
  },
  {
   "cell_type": "code",
   "execution_count": 29,
   "metadata": {},
   "outputs": [
    {
     "data": {
      "text/plain": [
       "dict_keys([1, 2, 'a', 'b'])"
      ]
     },
     "execution_count": 29,
     "metadata": {},
     "output_type": "execute_result"
    }
   ],
   "source": [
    "### keys method:\n",
    "\n",
    "d.keys() ### dictionary_name.keys()"
   ]
  },
  {
   "cell_type": "code",
   "execution_count": 31,
   "metadata": {},
   "outputs": [
    {
     "data": {
      "text/plain": [
       "dict_values([1, [1, 2, 3, 4], ['ant', 'are', 'apple'], ['ball', 'bat', 'brain', 'brinjal']])"
      ]
     },
     "execution_count": 31,
     "metadata": {},
     "output_type": "execute_result"
    }
   ],
   "source": [
    "####  values method:\n",
    "\n",
    "d.values() ### dictionary_name.values()\n"
   ]
  },
  {
   "cell_type": "code",
   "execution_count": 41,
   "metadata": {},
   "outputs": [
    {
     "data": {
      "text/plain": [
       "{1: 'apssdc', 2: 'Python', 3: {1: 'python', 2: 'programming'}}"
      ]
     },
     "execution_count": 41,
     "metadata": {},
     "output_type": "execute_result"
    }
   ],
   "source": [
    "a"
   ]
  },
  {
   "cell_type": "code",
   "execution_count": 42,
   "metadata": {},
   "outputs": [
    {
     "data": {
      "text/plain": [
       "'programming'"
      ]
     },
     "execution_count": 42,
     "metadata": {},
     "output_type": "execute_result"
    }
   ],
   "source": [
    "### get for nested dictionaries:\n",
    "\n",
    "a[3].get(2)"
   ]
  },
  {
   "cell_type": "code",
   "execution_count": 44,
   "metadata": {},
   "outputs": [
    {
     "data": {
      "text/plain": [
       "{1: 'apssdc', 2: 'Python', 3: {1: 'python', 2: 'programming'}}"
      ]
     },
     "execution_count": 44,
     "metadata": {},
     "output_type": "execute_result"
    }
   ],
   "source": [
    "#### copy method: returns the copy of a dictionary.\n",
    "\n",
    "a\n"
   ]
  },
  {
   "cell_type": "code",
   "execution_count": 46,
   "metadata": {},
   "outputs": [
    {
     "data": {
      "text/plain": [
       "{1: 'apssdc', 2: 'Python', 3: {1: 'python', 2: 'programming'}}"
      ]
     },
     "execution_count": 46,
     "metadata": {},
     "output_type": "execute_result"
    }
   ],
   "source": [
    "b  = a.copy()\n",
    "b"
   ]
  },
  {
   "cell_type": "code",
   "execution_count": 50,
   "metadata": {},
   "outputs": [
    {
     "data": {
      "text/plain": [
       "{'key1': [0, 1], 'key2': [0, 1]}"
      ]
     },
     "execution_count": 50,
     "metadata": {},
     "output_type": "execute_result"
    }
   ],
   "source": [
    "### fromkeys() :return the specified keys and values.\n",
    "\n",
    "x = (\"key1\",\"key2\")\n",
    "y = [0,1]\n",
    "\n",
    "new = dict.fromkeys(x,y)\n",
    "\n",
    "new"
   ]
  },
  {
   "cell_type": "code",
   "execution_count": 52,
   "metadata": {},
   "outputs": [
    {
     "data": {
      "text/plain": [
       "dict_items([(1, 1), (2, [1, 2, 3, 4]), ('a', ['ant', 'are', 'apple']), ('b', ['ball', 'bat', 'brain', 'brinjal'])])"
      ]
     },
     "execution_count": 52,
     "metadata": {},
     "output_type": "execute_result"
    }
   ],
   "source": [
    "### items() : returns the all keys and values pair in a tuple formart.\n",
    "\n",
    "d.items() \n"
   ]
  },
  {
   "cell_type": "code",
   "execution_count": 57,
   "metadata": {},
   "outputs": [
    {
     "data": {
      "text/plain": [
       "[1, 2, 3, 4]"
      ]
     },
     "execution_count": 57,
     "metadata": {},
     "output_type": "execute_result"
    }
   ],
   "source": [
    "#### pop() : pop is used to delete a particular value using key.\n",
    "\n",
    "d.pop(2)\n"
   ]
  },
  {
   "cell_type": "code",
   "execution_count": 58,
   "metadata": {},
   "outputs": [
    {
     "data": {
      "text/plain": [
       "{'a': ['ant', 'are', 'apple'], 'b': ['ball', 'bat', 'brain', 'brinjal']}"
      ]
     },
     "execution_count": 58,
     "metadata": {},
     "output_type": "execute_result"
    }
   ],
   "source": [
    "d"
   ]
  },
  {
   "cell_type": "code",
   "execution_count": 59,
   "metadata": {},
   "outputs": [
    {
     "data": {
      "text/plain": [
       "('b', ['ball', 'bat', 'brain', 'brinjal'])"
      ]
     },
     "execution_count": 59,
     "metadata": {},
     "output_type": "execute_result"
    }
   ],
   "source": [
    "### popitem() : pop item is used to remove the last key and values.\n",
    "\n",
    "d.popitem()"
   ]
  },
  {
   "cell_type": "code",
   "execution_count": 60,
   "metadata": {},
   "outputs": [
    {
     "data": {
      "text/plain": [
       "{'a': ['ant', 'are', 'apple']}"
      ]
     },
     "execution_count": 60,
     "metadata": {},
     "output_type": "execute_result"
    }
   ],
   "source": [
    "d"
   ]
  },
  {
   "cell_type": "code",
   "execution_count": 61,
   "metadata": {},
   "outputs": [
    {
     "data": {
      "text/plain": [
       "['ant', 'are', 'apple']"
      ]
     },
     "execution_count": 61,
     "metadata": {},
     "output_type": "execute_result"
    }
   ],
   "source": [
    "#### setdefault() : if key present in my dictionary it returns the values of that key,\n",
    "##                  else it will add that key to the dictionary.\n",
    "\n",
    "d.setdefault('a')\n"
   ]
  },
  {
   "cell_type": "code",
   "execution_count": 62,
   "metadata": {},
   "outputs": [],
   "source": [
    "d.setdefault('b')"
   ]
  },
  {
   "cell_type": "code",
   "execution_count": 63,
   "metadata": {},
   "outputs": [
    {
     "data": {
      "text/plain": [
       "{'a': ['ant', 'are', 'apple'], 'b': None}"
      ]
     },
     "execution_count": 63,
     "metadata": {},
     "output_type": "execute_result"
    }
   ],
   "source": [
    "d"
   ]
  },
  {
   "cell_type": "code",
   "execution_count": 66,
   "metadata": {},
   "outputs": [
    {
     "data": {
      "text/plain": [
       "{'a': ['ant', 'are', 'apple'], 'b': 2}"
      ]
     },
     "execution_count": 66,
     "metadata": {},
     "output_type": "execute_result"
    }
   ],
   "source": [
    "#### update() : update the values in a specified key.\n",
    "\n",
    "d.update({'b':2})\n",
    "d"
   ]
  },
  {
   "cell_type": "code",
   "execution_count": 68,
   "metadata": {},
   "outputs": [
    {
     "data": {
      "text/plain": [
       "{'a': ['ant', 'are', 'apple'], 'b': 2, 'c': [1, 2, 3, 4, 5], 'd': 14}"
      ]
     },
     "execution_count": 68,
     "metadata": {},
     "output_type": "execute_result"
    }
   ],
   "source": [
    "d.update({'c':[1,2,3,4,5],'d':14})\n",
    "d"
   ]
  },
  {
   "cell_type": "code",
   "execution_count": 69,
   "metadata": {},
   "outputs": [
    {
     "data": {
      "text/plain": [
       "{1: 'apssdc', 2: 'Python', 3: {1: 'python', 2: 'programming'}}"
      ]
     },
     "execution_count": 69,
     "metadata": {},
     "output_type": "execute_result"
    }
   ],
   "source": [
    "#### clear(): Removes all the elements in the dictionary:\n",
    "\n",
    "b"
   ]
  },
  {
   "cell_type": "code",
   "execution_count": 70,
   "metadata": {},
   "outputs": [],
   "source": [
    "b.clear()"
   ]
  },
  {
   "cell_type": "code",
   "execution_count": 71,
   "metadata": {},
   "outputs": [
    {
     "data": {
      "text/plain": [
       "{}"
      ]
     },
     "execution_count": 71,
     "metadata": {},
     "output_type": "execute_result"
    }
   ],
   "source": [
    "b"
   ]
  },
  {
   "cell_type": "markdown",
   "metadata": {},
   "source": [
    "### Loops in Dictionary:\n",
    "\n"
   ]
  },
  {
   "cell_type": "code",
   "execution_count": 72,
   "metadata": {},
   "outputs": [
    {
     "data": {
      "text/plain": [
       "{'a': ['ant', 'are', 'apple'], 'b': 2, 'c': [1, 2, 3, 4, 5], 'd': 14}"
      ]
     },
     "execution_count": 72,
     "metadata": {},
     "output_type": "execute_result"
    }
   ],
   "source": [
    "d"
   ]
  },
  {
   "cell_type": "code",
   "execution_count": 73,
   "metadata": {},
   "outputs": [
    {
     "name": "stdout",
     "output_type": "stream",
     "text": [
      "a\n",
      "b\n",
      "c\n",
      "d\n"
     ]
    }
   ],
   "source": [
    "### print all the keys one by one:\n",
    "\n",
    "for x in d:\n",
    "    print(x)"
   ]
  },
  {
   "cell_type": "code",
   "execution_count": 74,
   "metadata": {},
   "outputs": [
    {
     "name": "stdout",
     "output_type": "stream",
     "text": [
      "['ant', 'are', 'apple']\n",
      "2\n",
      "[1, 2, 3, 4, 5]\n",
      "14\n"
     ]
    }
   ],
   "source": [
    "#### print all the values from the dictionary:\n",
    "\n",
    "for x in d:\n",
    "    print(d[x])"
   ]
  },
  {
   "cell_type": "code",
   "execution_count": 75,
   "metadata": {},
   "outputs": [
    {
     "name": "stdout",
     "output_type": "stream",
     "text": [
      "['ant', 'are', 'apple']\n",
      "2\n",
      "[1, 2, 3, 4, 5]\n",
      "14\n"
     ]
    }
   ],
   "source": [
    "for x in d.values():\n",
    "    print(x)"
   ]
  },
  {
   "cell_type": "code",
   "execution_count": 77,
   "metadata": {},
   "outputs": [
    {
     "name": "stdout",
     "output_type": "stream",
     "text": [
      "a : ['ant', 'are', 'apple']\n",
      "b : 2\n",
      "c : [1, 2, 3, 4, 5]\n",
      "d : 14\n"
     ]
    }
   ],
   "source": [
    "for x,y in d.items():\n",
    "    print(x,\":\",y)\n",
    "    "
   ]
  },
  {
   "cell_type": "code",
   "execution_count": 84,
   "metadata": {},
   "outputs": [],
   "source": [
    "### Build a contact application in an andriod mobile.\n",
    "### Add a number in your contact application.\n",
    "\n",
    "contacts = {}\n",
    "def addcontact(name,number):\n",
    "    if name not in contacts:\n",
    "        contacts[name] = number\n",
    "        print(name,\"contact added \")\n",
    "    else:\n",
    "        print(name,\"contact is already existed\")\n",
    "    return\n"
   ]
  },
  {
   "cell_type": "code",
   "execution_count": null,
   "metadata": {},
   "outputs": [],
   "source": []
  },
  {
   "cell_type": "code",
   "execution_count": 86,
   "metadata": {},
   "outputs": [
    {
     "name": "stdout",
     "output_type": "stream",
     "text": [
      "Niharikaa contact added \n",
      "Lavanya contact added \n"
     ]
    }
   ],
   "source": [
    "addcontact(\"Niharikaa\",98765432345)       \n",
    "addcontact(\"Lavanya\",987654345678)"
   ]
  },
  {
   "cell_type": "code",
   "execution_count": 87,
   "metadata": {},
   "outputs": [
    {
     "data": {
      "text/plain": [
       "{'Niharikaa': 98765432345, 'Lavanya': 987654345678}"
      ]
     },
     "execution_count": 87,
     "metadata": {},
     "output_type": "execute_result"
    }
   ],
   "source": [
    "contacts"
   ]
  },
  {
   "cell_type": "code",
   "execution_count": 88,
   "metadata": {},
   "outputs": [],
   "source": [
    "### Search the number from the contact list:\n",
    "\n",
    "def searchcontact(name):\n",
    "    if name in contacts:\n",
    "        print(name,\":\",contacts[name])\n",
    "    else:\n",
    "        print(name,\"does not exist\")\n",
    "    return\n"
   ]
  },
  {
   "cell_type": "code",
   "execution_count": 89,
   "metadata": {},
   "outputs": [
    {
     "name": "stdout",
     "output_type": "stream",
     "text": [
      "Mounica contact added \n"
     ]
    }
   ],
   "source": [
    "addcontact(\"Mounica\",345678987654)"
   ]
  },
  {
   "cell_type": "code",
   "execution_count": 90,
   "metadata": {},
   "outputs": [
    {
     "data": {
      "text/plain": [
       "{'Niharikaa': 98765432345, 'Lavanya': 987654345678, 'Mounica': 345678987654}"
      ]
     },
     "execution_count": 90,
     "metadata": {},
     "output_type": "execute_result"
    }
   ],
   "source": [
    "contacts"
   ]
  },
  {
   "cell_type": "code",
   "execution_count": 91,
   "metadata": {},
   "outputs": [
    {
     "name": "stdout",
     "output_type": "stream",
     "text": [
      "Niharikaa : 98765432345\n"
     ]
    }
   ],
   "source": [
    "searchcontact(\"Niharikaa\")"
   ]
  },
  {
   "cell_type": "code",
   "execution_count": 92,
   "metadata": {},
   "outputs": [
    {
     "name": "stdout",
     "output_type": "stream",
     "text": [
      "srivatsav does not exist\n"
     ]
    }
   ],
   "source": [
    "searchcontact(\"srivatsav\")"
   ]
  },
  {
   "cell_type": "code",
   "execution_count": 99,
   "metadata": {},
   "outputs": [
    {
     "name": "stdout",
     "output_type": "stream",
     "text": [
      "2 contact updated\n"
     ]
    }
   ],
   "source": [
    "#### updatecontact in the contact list:\n",
    "\n",
    "def updatecontact(newcontact):\n",
    "    contacts.update(newcontact)\n",
    "    print(len(newcontact.keys()),\"contact updated\")\n",
    "newcontact = {\"lalitha\": 9876543234567,\"Lavanaya\":9876543456789}\n",
    "updatecontact(newcontact)"
   ]
  },
  {
   "cell_type": "code",
   "execution_count": 98,
   "metadata": {},
   "outputs": [
    {
     "data": {
      "text/plain": [
       "{'Niharikaa': 98765432345,\n",
       " 'Lavanya': 987654345678,\n",
       " 'Mounica': 345678987654,\n",
       " 'lalitha': 9876543234567,\n",
       " 'lavanaya': 9876543456789}"
      ]
     },
     "execution_count": 98,
     "metadata": {},
     "output_type": "execute_result"
    }
   ],
   "source": [
    "contacts"
   ]
  },
  {
   "cell_type": "code",
   "execution_count": 100,
   "metadata": {},
   "outputs": [],
   "source": [
    "l1=[9,8,7,6]           # inputs\n",
    "l2=[[0],[0,2],[1,2],[4,1,2]]\n",
    "                      # outputs\n",
    "#[[9], [8, 10], [8, 9], [10, 7, 8]]\n"
   ]
  },
  {
   "cell_type": "code",
   "execution_count": 103,
   "metadata": {},
   "outputs": [
    {
     "name": "stdout",
     "output_type": "stream",
     "text": [
      "[[9], [8, 10], [8, 9], [10, 7, 8]]\n"
     ]
    }
   ],
   "source": [
    "l1=[9,8,7,6]\n",
    "l2=[[0],[0,2],[1,2],[4,1,2]]\n",
    "x=len(l1)\n",
    "y=len(l2)\n",
    "new=l2.copy()\n",
    "for i in range(0,x,1):\n",
    "    n=len(l2[i])\n",
    "    for j in range(0,n,1):\n",
    "        v=l1[i]+l2[i][j]\n",
    "        new[i][j]=v\n",
    "        \n",
    "print(new)\n"
   ]
  },
  {
   "cell_type": "code",
   "execution_count": null,
   "metadata": {},
   "outputs": [],
   "source": []
  }
 ],
 "metadata": {
  "kernelspec": {
   "display_name": "Python 3",
   "language": "python",
   "name": "python3"
  },
  "language_info": {
   "codemirror_mode": {
    "name": "ipython",
    "version": 3
   },
   "file_extension": ".py",
   "mimetype": "text/x-python",
   "name": "python",
   "nbconvert_exporter": "python",
   "pygments_lexer": "ipython3",
   "version": "3.7.3"
  }
 },
 "nbformat": 4,
 "nbformat_minor": 2
}
