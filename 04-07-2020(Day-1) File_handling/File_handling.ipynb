{
 "cells": [
  {
   "cell_type": "markdown",
   "metadata": {},
   "source": [
    "# Day Objectives:\n",
    "\n",
    "## File Handling :\n",
    "\n",
    "   **File is collection of records**\n",
    "![](img.jpg)\n",
    "\n",
    "\n",
    "- Python File Handling: Create, Open, Append, Read, Write\n",
    "    * Creating a File\n",
    "    * Write the data \n",
    "    * Read data from file\n",
    "    * Append data to file\n",
    "    \n",
    "## Modes of operation:\n",
    "\n",
    "     * 'r'  -- Read mode which is used when the file is only being read <br>\n",
    "     * 'w'  -- Write mode which is used to edit and write new information to the file (any existing files with the same name                 will be erased when this mode is activated) <br>\n",
    "     * 'a'  -- Appending mode, which is used to add new data to the end of the file; that is new information is                                automatically amended to the end <br>\n",
    "     * 'r+' -- Special read and write mode, which is used to handle both actions when working with a file\n",
    "     \n",
    "## In-Build function:\n",
    "\n",
    "     * open(path,mode)\n",
    "     * close()\n",
    "\n"
   ]
  },
  {
   "cell_type": "code",
   "execution_count": 1,
   "metadata": {},
   "outputs": [],
   "source": [
    "# Create a new file\n",
    "book = open('book.txt','w')\n",
    "book.close()"
   ]
  },
  {
   "cell_type": "code",
   "execution_count": 2,
   "metadata": {},
   "outputs": [],
   "source": [
    "# write the data into file\n",
    "book = open('book.txt','w')\n",
    "book.write(\"hi all... ! welcome to APSSDC \")\n",
    "book.close()"
   ]
  },
  {
   "cell_type": "code",
   "execution_count": 3,
   "metadata": {},
   "outputs": [],
   "source": [
    "# Repalce data \n",
    "book = open('book.txt','w')\n",
    "book.write(\"welcome to Summer online training \")\n",
    "book.close()"
   ]
  },
  {
   "cell_type": "code",
   "execution_count": 10,
   "metadata": {},
   "outputs": [
    {
     "data": {
      "text/plain": [
       "'welcome to Summer online training\\nstudent 1\\nstudent 2 \\nstudent 3'"
      ]
     },
     "execution_count": 10,
     "metadata": {},
     "output_type": "execute_result"
    }
   ],
   "source": [
    "# Read entaire data at a time\n",
    "book = open('book.txt','r')\n",
    "book.read()"
   ]
  },
  {
   "cell_type": "code",
   "execution_count": 11,
   "metadata": {},
   "outputs": [
    {
     "name": "stdout",
     "output_type": "stream",
     "text": [
      "welcome to Summer online training\n",
      "\n",
      "student 1\n",
      "\n",
      "student 2 \n",
      "\n",
      "student 3\n"
     ]
    }
   ],
   "source": [
    "# read the data from file line by line\n",
    "book = open('book.txt','r')\n",
    "#book.readlines()\n",
    "for line in book.readlines():\n",
    "    print(line)"
   ]
  },
  {
   "cell_type": "code",
   "execution_count": 13,
   "metadata": {},
   "outputs": [
    {
     "name": "stdout",
     "output_type": "stream",
     "text": [
      "w  e  l  c  o  m  e     t  o     S  u  m  m  e  r     o  n  l  i  n  e     t  r  a  i  n  i  n  g  \n",
      "  "
     ]
    }
   ],
   "source": [
    "# read the data character by character\n",
    "book = open('book.txt','r')\n",
    "for char in book.readline():\n",
    "    print(char, end = '  ')"
   ]
  },
  {
   "cell_type": "code",
   "execution_count": 39,
   "metadata": {},
   "outputs": [],
   "source": [
    "# append the data at the end \n",
    "book = open('book.txt','a')\n",
    "book.write(\"\\nstudent 5\")\n",
    "book.close()"
   ]
  },
  {
   "cell_type": "code",
   "execution_count": 19,
   "metadata": {},
   "outputs": [],
   "source": [
    "book = open('book.txt','a')\n",
    "for i in range(6,51):\n",
    "    book.write(\"student %d\\n\"%(i))\n",
    "    "
   ]
  },
  {
   "cell_type": "markdown",
   "metadata": {},
   "source": [
    "book = open('book.txt','r+')\n",
    "\n",
    "book.read()\n",
    "book.write(\"hi hii  hi\")\n",
    "book.close()"
   ]
  },
  {
   "cell_type": "code",
   "execution_count": null,
   "metadata": {},
   "outputs": [],
   "source": []
  },
  {
   "cell_type": "code",
   "execution_count": null,
   "metadata": {},
   "outputs": [],
   "source": []
  },
  {
   "cell_type": "code",
   "execution_count": null,
   "metadata": {},
   "outputs": [],
   "source": []
  },
  {
   "cell_type": "code",
   "execution_count": null,
   "metadata": {},
   "outputs": [],
   "source": []
  },
  {
   "cell_type": "markdown",
   "metadata": {},
   "source": [
    "## Methods in file handling\n",
    "* tell(): returns the current location of pointer\n",
    "* seek(): we can set the pointer at a specific location  "
   ]
  },
  {
   "cell_type": "code",
   "execution_count": 40,
   "metadata": {},
   "outputs": [
    {
     "name": "stdout",
     "output_type": "stream",
     "text": [
      "0\n",
      "hi \n",
      "\n",
      "4\n",
      "student 5\n",
      "\n",
      "14\n"
     ]
    }
   ],
   "source": [
    "book = open('book.txt','r')\n",
    "print(book.tell())\n",
    "print(book.readline())\n",
    "print(book.tell())\n",
    "print(book.readline())\n",
    "print(book.tell())"
   ]
  },
  {
   "cell_type": "code",
   "execution_count": 43,
   "metadata": {},
   "outputs": [
    {
     "name": "stdout",
     "output_type": "stream",
     "text": [
      "i \n",
      "\n",
      "6\n",
      "udent 5\n",
      "\n"
     ]
    }
   ],
   "source": [
    "book = open('book.txt','r')\n",
    "book.seek(1)\n",
    "print(book.readline())\n",
    "print(book.seek(6))\n",
    "print(book.readline())"
   ]
  },
  {
   "cell_type": "code",
   "execution_count": 55,
   "metadata": {},
   "outputs": [],
   "source": [
    "mail = open('mail.txt','w')\n",
    "mail.write(\"lavanya_p@apssdc.in\")\n",
    "mail.close()"
   ]
  },
  {
   "cell_type": "code",
   "execution_count": 59,
   "metadata": {},
   "outputs": [
    {
     "data": {
      "text/plain": [
       "9"
      ]
     },
     "execution_count": 59,
     "metadata": {},
     "output_type": "execute_result"
    }
   ],
   "source": [
    "mail = open('mail.txt','r')\n",
    "li = list(mail.read())\n",
    "li.index('@')\n",
    "mail.seek(li.index('@')+1)\n",
    "mail.readlines()"
   ]
  },
  {
   "cell_type": "code",
   "execution_count": 60,
   "metadata": {},
   "outputs": [
    {
     "data": {
      "text/plain": [
       "9"
      ]
     },
     "execution_count": 60,
     "metadata": {},
     "output_type": "execute_result"
    }
   ],
   "source": [
    "li.index('@')"
   ]
  },
  {
   "cell_type": "code",
   "execution_count": 61,
   "metadata": {},
   "outputs": [
    {
     "data": {
      "text/plain": [
       "['apssdc.in']"
      ]
     },
     "execution_count": 61,
     "metadata": {},
     "output_type": "execute_result"
    }
   ],
   "source": [
    "mail.seek(li.index('@')+1)\n",
    "mail.readlines()"
   ]
  },
  {
   "cell_type": "code",
   "execution_count": 63,
   "metadata": {},
   "outputs": [],
   "source": [
    "mail = open('mail.txt','r+')\n",
    "li = list(mail.read())\n",
    "li.index('@')\n",
    "mail.seek(li.index('@')+1)\n",
    "mail.write(\"official\")\n",
    "mail.close()"
   ]
  },
  {
   "cell_type": "code",
   "execution_count": null,
   "metadata": {},
   "outputs": [],
   "source": []
  },
  {
   "cell_type": "markdown",
   "metadata": {},
   "source": [
    "### Data handling:\n",
    "    * Line count  - TO find lines in a file\n",
    "    * Word count  - To find the count of char \n",
    "    * Char count  - To find the count spl char"
   ]
  },
  {
   "cell_type": "code",
   "execution_count": 69,
   "metadata": {},
   "outputs": [
    {
     "name": "stdout",
     "output_type": "stream",
     "text": [
      "5\n"
     ]
    }
   ],
   "source": [
    "# To find lines in a file\n",
    "mail = open('book.txt','r')\n",
    "count = 0\n",
    "for line in mail.readlines():\n",
    "    count += 1\n",
    "    #print(line)\n",
    "    \n",
    "print(count)"
   ]
  },
  {
   "cell_type": "code",
   "execution_count": 87,
   "metadata": {
    "collapsed": true
   },
   "outputs": [
    {
     "name": "stdout",
     "output_type": "stream",
     "text": [
      "h\n",
      "i\n",
      " \n",
      "\n",
      "\n",
      "s\n",
      "t\n",
      "u\n",
      "d\n",
      "e\n",
      "n\n",
      "t\n",
      " \n",
      "5\n",
      "\n",
      "\n",
      "h\n",
      "e\n",
      "l\n",
      "l\n",
      "o\n",
      "\n",
      "\n",
      "h\n",
      "e\n",
      "l\n",
      "l\n",
      "o\n",
      "o\n",
      "o\n",
      "o\n",
      "o\n",
      "o\n",
      "o\n",
      "o\n",
      "o\n",
      "o\n",
      "o\n",
      "o\n",
      "\n",
      "\n",
      "n\n",
      "f\n",
      "d\n",
      "g\n",
      "f\n",
      "g\n",
      "h\n",
      "Total 44 char in file \n"
     ]
    }
   ],
   "source": [
    "# To find characters in a flie\n",
    "mail = open('book.txt','r')\n",
    "count = 0\n",
    "for char in mail.read():\n",
    "    count += 1\n",
    "    print(char)\n",
    "    \n",
    "print(\"Total {0} char in file \".format(count))\n",
    "#print(count)"
   ]
  },
  {
   "cell_type": "code",
   "execution_count": 93,
   "metadata": {},
   "outputs": [],
   "source": [
    "# To find Total number of  Alpha and numerics in file\n"
   ]
  },
  {
   "cell_type": "code",
   "execution_count": 92,
   "metadata": {},
   "outputs": [
    {
     "name": "stdout",
     "output_type": "stream",
     "text": [
      "Total 37 alphabets and 7 digits\n"
     ]
    }
   ],
   "source": [
    "book=open('book.txt','r')\n",
    "c=0\n",
    "c1=0\n",
    "for char in book.read():\n",
    "    if char.isalpha():\n",
    "        c=c+1\n",
    "    if char.isdigit():\n",
    "        c1=c1+1\n",
    "    \n",
    "print(\"Total {0} alphabets and {1} digits\".format(c,c1))\n",
    "#print(c1)\n",
    "book.close()\n"
   ]
  },
  {
   "cell_type": "code",
   "execution_count": 94,
   "metadata": {},
   "outputs": [
    {
     "name": "stdout",
     "output_type": "stream",
     "text": [
      "9\n"
     ]
    }
   ],
   "source": [
    "# Find only special char in a file\n",
    "book=open('book.txt','r')\n",
    "c=0\n",
    "c1=0\n",
    "c2=0\n",
    "for char in book.read():\n",
    "    if char.isalpha():\n",
    "        c+=1\n",
    "    elif char.isdigit():\n",
    "        c1+=1\n",
    "    else:\n",
    "        c2+=1\n",
    "print(c2)\n",
    "book.close()\n"
   ]
  },
  {
   "cell_type": "code",
   "execution_count": 99,
   "metadata": {},
   "outputs": [
    {
     "name": "stdout",
     "output_type": "stream",
     "text": [
      "Total 9 special characters\n"
     ]
    }
   ],
   "source": [
    "# Another process\n",
    "book=open('book.txt','r')\n",
    "c2=0\n",
    "for char in book.read():\n",
    "    if char.isalpha() or char.isdigit():\n",
    "        pass\n",
    "    else:\n",
    "        c2 += 1\n",
    "print('Total {0} special characters'.format(c2))\n",
    "book.close()"
   ]
  },
  {
   "cell_type": "code",
   "execution_count": null,
   "metadata": {},
   "outputs": [],
   "source": []
  },
  {
   "cell_type": "code",
   "execution_count": null,
   "metadata": {},
   "outputs": [],
   "source": []
  },
  {
   "cell_type": "code",
   "execution_count": null,
   "metadata": {},
   "outputs": [],
   "source": []
  },
  {
   "cell_type": "code",
   "execution_count": null,
   "metadata": {},
   "outputs": [],
   "source": []
  },
  {
   "cell_type": "markdown",
   "metadata": {},
   "source": [
    "## Task\n",
    "### display the student phone number who given invalid mobile \n",
    "### numbers in contacts.txt\n",
    "\n"
   ]
  },
  {
   "cell_type": "code",
   "execution_count": 101,
   "metadata": {},
   "outputs": [],
   "source": [
    "phonebook = open('phone.txt','w')\n",
    "phonebook.write(\"sai 9876543210\\n\")\n",
    "phonebook.write(\"ameer 1234567890\\n\")\n",
    "phonebook.write(\"janardhana 658357465874\")\n",
    "phonebook.close()"
   ]
  },
  {
   "cell_type": "code",
   "execution_count": 102,
   "metadata": {},
   "outputs": [],
   "source": [
    "import re"
   ]
  },
  {
   "cell_type": "code",
   "execution_count": 130,
   "metadata": {},
   "outputs": [],
   "source": [
    "def phoneValidation(number):\n",
    "    if re.search(\"^[6-9]{1}[0-9]{9}$\",number):\n",
    "        pass\n",
    "    else:\n",
    "        return number\n",
    "\n",
    "phoneValidation('9876543210')"
   ]
  },
  {
   "cell_type": "code",
   "execution_count": 132,
   "metadata": {},
   "outputs": [
    {
     "name": "stdout",
     "output_type": "stream",
     "text": [
      "None\n",
      "1234567890\n",
      "658357465874\n"
     ]
    }
   ],
   "source": [
    "phonebook = open('phone.txt','r')\n",
    "for line in phonebook.readlines():\n",
    "    l = line.split()\n",
    "    for i in l:\n",
    "        if i.isdigit():\n",
    "            print(phoneValidation(i))\n"
   ]
  },
  {
   "cell_type": "code",
   "execution_count": null,
   "metadata": {},
   "outputs": [],
   "source": [
    "# marks Task\n",
    "\n",
    "# marks.txt\n",
    "student_name  maths   english\n",
    "sai             90      45\n",
    "ameer           89      54\n",
    "harika          56      90\n",
    "\n",
    "\n",
    "#output \n",
    "\n",
    "#report.txt\n",
    "student_name  maths   english   Total \n",
    "sai             90      45       135\n",
    "ameer           89      54       143\n",
    "harika          56      90       146\n",
    "\n",
    "sai.chandu7306@gmail.com\n",
    "hemalata7522@gmail.com \n",
    "harikacdm@gmail.com\n",
    "jana34324@gmail.com\n",
    "sowndaryamahasivabattu@gmail.com\n",
    "Kiranmaisanaboyina9@gmail.com\n",
    "devireddy.charanreddy@gmail.com "
   ]
  },
  {
   "cell_type": "code",
   "execution_count": 133,
   "metadata": {},
   "outputs": [
    {
     "data": {
      "text/plain": [
       "<re.Match object; span=(0, 8), match='Sowjanya'>"
      ]
     },
     "execution_count": 133,
     "metadata": {},
     "output_type": "execute_result"
    }
   ],
   "source": [
    "# Sowjanya$123\n",
    "re.search(\"^[A-Z]{1}[a-z]{5,10}$\",\"Sowjanya\")"
   ]
  },
  {
   "cell_type": "code",
   "execution_count": null,
   "metadata": {},
   "outputs": [],
   "source": []
  }
 ],
 "metadata": {
  "kernelspec": {
   "display_name": "Python 3",
   "language": "python",
   "name": "python3"
  },
  "language_info": {
   "codemirror_mode": {
    "name": "ipython",
    "version": 3
   },
   "file_extension": ".py",
   "mimetype": "text/x-python",
   "name": "python",
   "nbconvert_exporter": "python",
   "pygments_lexer": "ipython3",
   "version": "3.7.3"
  }
 },
 "nbformat": 4,
 "nbformat_minor": 2
}
