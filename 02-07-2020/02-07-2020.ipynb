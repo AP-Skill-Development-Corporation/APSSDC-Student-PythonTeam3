{
 "cells": [
  {
   "cell_type": "markdown",
   "metadata": {},
   "source": [
    "## Comprehensions:\n"
   ]
  },
  {
   "cell_type": "markdown",
   "metadata": {},
   "source": [
    "* Comprehension is nothing but Inclusive(within itself).\n",
    "* In python we use these comprehensions for simplying for code and reducing the programming lines. <br>\n",
    "\n",
    "#### Types of comprehensions:\n",
    "\n",
    "* List Comprehension\n",
    "* Dictionary Comprehension\n",
    "* Set Comprehension\n",
    "* Generator Comprehension.\n"
   ]
  },
  {
   "cell_type": "markdown",
   "metadata": {},
   "source": [
    "#### List Comprehension:\n",
    "\n",
    "If we write our code within a list to create the output in the format of list,then that is named as List comprehension.\n"
   ]
  },
  {
   "cell_type": "code",
   "execution_count": 1,
   "metadata": {},
   "outputs": [
    {
     "name": "stdout",
     "output_type": "stream",
     "text": [
      "[1, 2, 3, 4, 5, 6, 7, 8, 9, 10]\n"
     ]
    }
   ],
   "source": [
    "### Display the numbers from 1 to 10 in list format.\n",
    "\n",
    "l = []\n",
    "for i in range(1,11):\n",
    "    l.append(i)\n",
    "print(l)"
   ]
  },
  {
   "cell_type": "code",
   "execution_count": 2,
   "metadata": {},
   "outputs": [
    {
     "name": "stdout",
     "output_type": "stream",
     "text": [
      "List comprehension [1, 2, 3, 4, 5, 6, 7, 8, 9, 10]\n"
     ]
    }
   ],
   "source": [
    "### List comprehension:\n",
    "##  first at the starting of list output variable should be defined.\n",
    "### Loop should be defined after the output variable\n",
    "### conditions sholud be defined after loop.\n",
    "\n",
    "l = [i for i in range(1,11)]\n",
    "print(\"List comprehension\",l)"
   ]
  },
  {
   "cell_type": "code",
   "execution_count": 3,
   "metadata": {},
   "outputs": [
    {
     "name": "stdout",
     "output_type": "stream",
     "text": [
      "[12, 14, 10, 6]\n"
     ]
    }
   ],
   "source": [
    "### Print even numbers from a given list in list format:\n",
    "\n",
    "li = [12,14,3,1,7,10,6]\n",
    "l = []\n",
    "for i in li:\n",
    "    if i%2 == 0:\n",
    "        l.append(i)\n",
    "print(l)"
   ]
  },
  {
   "cell_type": "code",
   "execution_count": 4,
   "metadata": {},
   "outputs": [
    {
     "name": "stdout",
     "output_type": "stream",
     "text": [
      "[12, 14, 10, 6]\n"
     ]
    }
   ],
   "source": [
    "### list comprehension:\n",
    "\n",
    "l = [i for i in li if i%2 == 0]\n",
    "print(l)"
   ]
  },
  {
   "cell_type": "code",
   "execution_count": 7,
   "metadata": {},
   "outputs": [
    {
     "name": "stdout",
     "output_type": "stream",
     "text": [
      "[12, 14, 'Odd', 'Odd', 'Odd', 10, 6]\n"
     ]
    }
   ],
   "source": [
    "#### Print the even numbers in a list and in place of odd numbers replace it with \"odd\"\n",
    "\n",
    "li = [12,14,3,1,7,10,6]\n",
    "l = []\n",
    "for i in li:\n",
    "    if i%2 == 0:\n",
    "        l.append(i)\n",
    "    else:\n",
    "        l.append(\"Odd\")\n",
    "print(l)"
   ]
  },
  {
   "cell_type": "code",
   "execution_count": 8,
   "metadata": {},
   "outputs": [
    {
     "name": "stdout",
     "output_type": "stream",
     "text": [
      "[12, 14, 'Odd', 'Odd', 'Odd', 10, 6]\n"
     ]
    }
   ],
   "source": [
    "###List comprehension:\n",
    "### If we use if and else condition at a time ,then condition should be defined \n",
    "##  first later loop should be defined.\n",
    "\n",
    "l =[i if i % 2 == 0 else \"Odd\" for i in li]\n",
    "print(l)"
   ]
  },
  {
   "cell_type": "code",
   "execution_count": 11,
   "metadata": {},
   "outputs": [
    {
     "name": "stdout",
     "output_type": "stream",
     "text": [
      "['python', 'programming', 'summer', 'online', 'training']\n"
     ]
    }
   ],
   "source": [
    "### task\n",
    "### a = [\"python programming\",\"summer online training\"]\n",
    "### separate each word with comma and print the output in list format.\n",
    "\n",
    "a = [\"python programming\",\"summer online training\"]\n",
    "li = []\n",
    "for i in a :\n",
    "    for j in i.split():\n",
    "        li.append(j)\n",
    "print(li)\n",
    "        \n",
    "    "
   ]
  },
  {
   "cell_type": "code",
   "execution_count": 12,
   "metadata": {},
   "outputs": [
    {
     "name": "stdout",
     "output_type": "stream",
     "text": [
      "['python', 'programming', 'summer', 'online', 'training']\n"
     ]
    }
   ],
   "source": [
    "### list comprehension:\n",
    "\n",
    "a = [\"python programming\",\"summer online training\"]\n",
    "\n",
    "list_sep = [j for i in a for j in i.split()]\n",
    "print(list_sep)"
   ]
  },
  {
   "cell_type": "markdown",
   "metadata": {},
   "source": [
    "### Dictionary Comprehension:\n",
    "\n",
    "If we use our code in a Dictionary and the output is printed in the format of dictonary then that will be Dictionary comprehension.\n"
   ]
  },
  {
   "cell_type": "code",
   "execution_count": 13,
   "metadata": {},
   "outputs": [
    {
     "name": "stdout",
     "output_type": "stream",
     "text": [
      "{'Andhra': 'Amaravathi', 'Telangana': 'Hyderabad', 'TamilNadu': 'Chennai'}\n"
     ]
    }
   ],
   "source": [
    "state = [\"Andhra\",\"Telangana\",\"TamilNadu\"]\n",
    "capital = [\"Amaravathi\",\"Hyderabad\",\"Chennai\"]\n",
    "\n",
    "c = {}\n",
    "for (key,value) in zip(state,capital):\n",
    "    c[key] = value\n",
    "print(c)"
   ]
  },
  {
   "cell_type": "code",
   "execution_count": 14,
   "metadata": {},
   "outputs": [
    {
     "name": "stdout",
     "output_type": "stream",
     "text": [
      "{'Andhra': 'Amaravathi', 'Telangana': 'Hyderabad', 'TamilNadu': 'Chennai'}\n"
     ]
    }
   ],
   "source": [
    "### Dictionary Comprehension:\n",
    "\n",
    "output = {key:value for (key,value) in zip(state,capital)}\n",
    "print(output)"
   ]
  },
  {
   "cell_type": "code",
   "execution_count": 17,
   "metadata": {},
   "outputs": [
    {
     "name": "stdout",
     "output_type": "stream",
     "text": [
      "{1: 1, 2: 4, 6: 36, 9: 81, 10: 100}\n"
     ]
    }
   ],
   "source": [
    "#### li = [1,2,6,9,10]\n",
    "### d = {1:1,2:4,6:36,9:81,10:100}\n",
    "li = [1,2,6,9,10]\n",
    "d ={i:i**2 for i in li}\n",
    "print(d)"
   ]
  },
  {
   "cell_type": "markdown",
   "metadata": {},
   "source": [
    "### Set Comprehension:\n",
    "\n",
    "* Set comprehension is also as same as list comprehension but the main difference is set accepts unique elements.\n"
   ]
  },
  {
   "cell_type": "code",
   "execution_count": 18,
   "metadata": {},
   "outputs": [
    {
     "name": "stdout",
     "output_type": "stream",
     "text": [
      "{89, 1, 3, 5}\n"
     ]
    }
   ],
   "source": [
    "li =[1,2,3,3,6,89,5,5]\n",
    "s = set()\n",
    "for i in li:\n",
    "    if i % 2 !=0:\n",
    "        s.add(i)\n",
    "print(s)"
   ]
  },
  {
   "cell_type": "code",
   "execution_count": 19,
   "metadata": {},
   "outputs": [
    {
     "name": "stdout",
     "output_type": "stream",
     "text": [
      "{89, 1, 3, 5}\n"
     ]
    }
   ],
   "source": [
    "### Set comprehension:\n",
    "\n",
    "s = {i for i in li if i%2!=0}\n",
    "print(s)"
   ]
  },
  {
   "cell_type": "markdown",
   "metadata": {},
   "source": [
    "### Generator Comprehension:\n"
   ]
  },
  {
   "cell_type": "markdown",
   "metadata": {},
   "source": [
    "### Iterators and Generators:\n",
    "\n",
    "\n",
    "#### Iterator:\n",
    "\n"
   ]
  },
  {
   "cell_type": "markdown",
   "metadata": {},
   "source": [
    "* Iterator is as same as For loop but the difference the output can be accessed as per requirement.\n",
    "* In iterator we have 2 main keywords.\n",
    "    * iter: to make the value into iteartor\n",
    "    * Next: for getting the output \n",
    "    \n",
    "    "
   ]
  },
  {
   "cell_type": "code",
   "execution_count": 20,
   "metadata": {},
   "outputs": [
    {
     "name": "stdout",
     "output_type": "stream",
     "text": [
      "1\n",
      "2\n",
      "3\n",
      "4\n",
      "5\n",
      "6\n",
      "7\n",
      "8\n",
      "9\n",
      "10\n"
     ]
    }
   ],
   "source": [
    "### print 1 to 10 numbers.\n",
    "\n",
    "for i in range(1,11):\n",
    "    print(i)"
   ]
  },
  {
   "cell_type": "code",
   "execution_count": 21,
   "metadata": {},
   "outputs": [],
   "source": [
    "### iterator.\n",
    "\n",
    "l = [i for i in range(1,11)]\n",
    "l_iter = iter(l)\n"
   ]
  },
  {
   "cell_type": "code",
   "execution_count": 22,
   "metadata": {},
   "outputs": [
    {
     "data": {
      "text/plain": [
       "1"
      ]
     },
     "execution_count": 22,
     "metadata": {},
     "output_type": "execute_result"
    }
   ],
   "source": [
    "next(l_iter)"
   ]
  },
  {
   "cell_type": "code",
   "execution_count": 23,
   "metadata": {},
   "outputs": [
    {
     "data": {
      "text/plain": [
       "2"
      ]
     },
     "execution_count": 23,
     "metadata": {},
     "output_type": "execute_result"
    }
   ],
   "source": [
    "next(l_iter)"
   ]
  },
  {
   "cell_type": "code",
   "execution_count": 32,
   "metadata": {},
   "outputs": [
    {
     "ename": "StopIteration",
     "evalue": "",
     "output_type": "error",
     "traceback": [
      "\u001b[1;31m---------------------------------------------------------------------------\u001b[0m",
      "\u001b[1;31mStopIteration\u001b[0m                             Traceback (most recent call last)",
      "\u001b[1;32m<ipython-input-32-43aece5a3964>\u001b[0m in \u001b[0;36m<module>\u001b[1;34m\u001b[0m\n\u001b[1;32m----> 1\u001b[1;33m \u001b[0mnext\u001b[0m\u001b[1;33m(\u001b[0m\u001b[0ml_iter\u001b[0m\u001b[1;33m)\u001b[0m\u001b[1;33m\u001b[0m\u001b[1;33m\u001b[0m\u001b[0m\n\u001b[0m",
      "\u001b[1;31mStopIteration\u001b[0m: "
     ]
    }
   ],
   "source": [
    "next(l_iter)"
   ]
  },
  {
   "cell_type": "code",
   "execution_count": 35,
   "metadata": {},
   "outputs": [
    {
     "name": "stdout",
     "output_type": "stream",
     "text": [
      "1\n",
      "2\n",
      "3\n",
      "4\n",
      "5\n",
      "6\n",
      "7\n",
      "8\n",
      "9\n",
      "10\n"
     ]
    }
   ],
   "source": [
    "a_iter = iter(l)\n",
    "while True:\n",
    "    try : \n",
    "        item = next(a_iter)\n",
    "        print(item)\n",
    "    except StopIteration:\n",
    "        break\n",
    "        \n"
   ]
  },
  {
   "cell_type": "markdown",
   "metadata": {},
   "source": [
    "#### Generator:\n",
    "\n",
    "* Generator is also like function but in place of return we use yield.\n",
    "* Generators are always used in combination with an iterator.\n",
    "\n"
   ]
  },
  {
   "cell_type": "code",
   "execution_count": 36,
   "metadata": {},
   "outputs": [
    {
     "data": {
      "text/plain": [
       "4"
      ]
     },
     "execution_count": 36,
     "metadata": {},
     "output_type": "execute_result"
    }
   ],
   "source": [
    "# n = 2 --4\n",
    "# n = 4 -- 16\n",
    "# n =16 -- 256\n",
    "\n",
    "def gen(n = 2):\n",
    "    while True:\n",
    "        n **= 2\n",
    "        yield n\n",
    "a = gen() \n",
    "next(a)"
   ]
  },
  {
   "cell_type": "code",
   "execution_count": 37,
   "metadata": {},
   "outputs": [
    {
     "data": {
      "text/plain": [
       "16"
      ]
     },
     "execution_count": 37,
     "metadata": {},
     "output_type": "execute_result"
    }
   ],
   "source": [
    "next(a)"
   ]
  },
  {
   "cell_type": "code",
   "execution_count": 42,
   "metadata": {},
   "outputs": [
    {
     "data": {
      "text/plain": [
       "340282366920938463463374607431768211456"
      ]
     },
     "execution_count": 42,
     "metadata": {},
     "output_type": "execute_result"
    }
   ],
   "source": [
    "next(a)"
   ]
  },
  {
   "cell_type": "code",
   "execution_count": 46,
   "metadata": {},
   "outputs": [
    {
     "data": {
      "text/plain": [
       "4"
      ]
     },
     "execution_count": 46,
     "metadata": {},
     "output_type": "execute_result"
    }
   ],
   "source": [
    "def gen(n = 2):\n",
    "    while True:\n",
    "        n **= 2\n",
    "        return n\n",
    "gen()"
   ]
  },
  {
   "cell_type": "markdown",
   "metadata": {},
   "source": [
    "#### Generator Comprehension:\n",
    "\n"
   ]
  },
  {
   "cell_type": "code",
   "execution_count": 49,
   "metadata": {},
   "outputs": [
    {
     "name": "stdout",
     "output_type": "stream",
     "text": [
      "1\n",
      "35937\n",
      "64\n",
      "175616\n",
      "474552\n",
      "729000\n"
     ]
    }
   ],
   "source": [
    "li = [1,33,4,56,78,90]\n",
    "c = (i**3 for i in li)\n",
    "for i in c:\n",
    "    print(i)"
   ]
  },
  {
   "cell_type": "code",
   "execution_count": 53,
   "metadata": {},
   "outputs": [
    {
     "data": {
      "text/plain": [
       "4"
      ]
     },
     "execution_count": 53,
     "metadata": {},
     "output_type": "execute_result"
    }
   ],
   "source": [
    "def gen(n = 2):\n",
    "    while True:\n",
    "        n **= 2\n",
    "        yield n\n",
    "a = gen()\n",
    "next(a)"
   ]
  },
  {
   "cell_type": "code",
   "execution_count": 54,
   "metadata": {},
   "outputs": [
    {
     "name": "stdout",
     "output_type": "stream",
     "text": [
      "1\n",
      "35937\n",
      "39304\n",
      "175616\n",
      "343\n",
      "512\n"
     ]
    }
   ],
   "source": [
    "li=[1,33,34,56,7,8]\n",
    "c=(i**3 for i in li)\n",
    "for i in c:\n",
    "    print(i)"
   ]
  },
  {
   "cell_type": "code",
   "execution_count": null,
   "metadata": {},
   "outputs": [],
   "source": []
  }
 ],
 "metadata": {
  "kernelspec": {
   "display_name": "Python 3",
   "language": "python",
   "name": "python3"
  },
  "language_info": {
   "codemirror_mode": {
    "name": "ipython",
    "version": 3
   },
   "file_extension": ".py",
   "mimetype": "text/x-python",
   "name": "python",
   "nbconvert_exporter": "python",
   "pygments_lexer": "ipython3",
   "version": "3.7.3"
  }
 },
 "nbformat": 4,
 "nbformat_minor": 2
}
