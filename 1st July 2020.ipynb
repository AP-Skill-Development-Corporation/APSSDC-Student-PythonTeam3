{
 "cells": [
  {
   "cell_type": "markdown",
   "metadata": {},
   "source": [
    "## Modules and packages\n",
    "#### Modules\n",
    "- a single python containing functions\n",
    "#### Packages\n",
    "- Collection of modules"
   ]
  },
  {
   "cell_type": "code",
   "execution_count": 2,
   "metadata": {},
   "outputs": [
    {
     "data": {
      "text/plain": [
       "10.0"
      ]
     },
     "execution_count": 2,
     "metadata": {},
     "output_type": "execute_result"
    }
   ],
   "source": [
    "# from package import module\n",
    "from math import sqrt \n",
    "sqrt(100)"
   ]
  },
  {
   "cell_type": "code",
   "execution_count": 5,
   "metadata": {},
   "outputs": [
    {
     "data": {
      "text/plain": [
       "10.0"
      ]
     },
     "execution_count": 5,
     "metadata": {},
     "output_type": "execute_result"
    }
   ],
   "source": [
    "import math\n",
    "math.sqrt(100)"
   ]
  },
  {
   "cell_type": "code",
   "execution_count": 3,
   "metadata": {},
   "outputs": [
    {
     "name": "stdout",
     "output_type": "stream",
     "text": [
      "52\n",
      "45\n",
      "59\n",
      "1\n",
      "4\n",
      "89\n",
      "59\n",
      "49\n",
      "84\n",
      "68\n"
     ]
    }
   ],
   "source": [
    "import random\n",
    "# from random import randint\n",
    "def generateNumbers(n,lowlimit,uplimit):\n",
    "    for i in range(n):\n",
    "        print(random.randint(lowlimit,uplimit))\n",
    "generateNumbers(10,1,100)"
   ]
  },
  {
   "cell_type": "code",
   "execution_count": 4,
   "metadata": {},
   "outputs": [
    {
     "data": {
      "text/plain": [
       "10.0"
      ]
     },
     "execution_count": 4,
     "metadata": {},
     "output_type": "execute_result"
    }
   ],
   "source": [
    "import math\n",
    "math.sqrt(100)"
   ]
  },
  {
   "cell_type": "markdown",
   "metadata": {},
   "source": [
    "### Regular Expressions\n",
    "- A regular expression is a sequence of characters that match a pattern\n",
    "- import re\n",
    "- Character - usecase\n",
    " >1. ^    - matches the begining\n",
    " >2. []   - represents a character\n",
    " >3. .    - matches single character\n",
    " >4. +    - one or more no of occurences \n",
    " >5. *    - zero or more occurences\n",
    " >6. {}   - range set\n",
    " >7.$    - matches the ending "
   ]
  },
  {
   "cell_type": "code",
   "execution_count": 12,
   "metadata": {},
   "outputs": [
    {
     "name": "stdout",
     "output_type": "stream",
     "text": [
      "enterafgh\n",
      "matched\n"
     ]
    }
   ],
   "source": [
    "# jagadish\n",
    "# harish\n",
    "# ah\n",
    "# ^[a-zA-Z][a-z]* [h]$\n",
    "import re\n",
    "pattern = '^[a-zA-Z][a-z]*[h]$'\n",
    "ch = input(\"enter\")\n",
    "if re.match(pattern,ch):\n",
    "    print(\"matched\") \n",
    "else:\n",
    "    print(\"not matched\")"
   ]
  },
  {
   "cell_type": "code",
   "execution_count": 13,
   "metadata": {},
   "outputs": [],
   "source": [
    "import re"
   ]
  },
  {
   "cell_type": "code",
   "execution_count": 14,
   "metadata": {},
   "outputs": [],
   "source": [
    "re.match(\"hi\",\"joy\")"
   ]
  },
  {
   "cell_type": "code",
   "execution_count": 15,
   "metadata": {},
   "outputs": [
    {
     "data": {
      "text/plain": [
       "<re.Match object; span=(0, 2), match='hi'>"
      ]
     },
     "execution_count": 15,
     "metadata": {},
     "output_type": "execute_result"
    }
   ],
   "source": [
    "re.match(\"hi\",\"hi\")"
   ]
  },
  {
   "cell_type": "code",
   "execution_count": 16,
   "metadata": {},
   "outputs": [],
   "source": [
    "re.match(\"python\",\"pytho\")"
   ]
  },
  {
   "cell_type": "code",
   "execution_count": 17,
   "metadata": {},
   "outputs": [
    {
     "data": {
      "text/plain": [
       "<re.Match object; span=(0, 1), match='p'>"
      ]
     },
     "execution_count": 17,
     "metadata": {},
     "output_type": "execute_result"
    }
   ],
   "source": [
    "re.match(\"p\",\"python\")"
   ]
  },
  {
   "cell_type": "code",
   "execution_count": 18,
   "metadata": {},
   "outputs": [],
   "source": [
    "re.match(\"y\",\"python\")"
   ]
  },
  {
   "cell_type": "code",
   "execution_count": 19,
   "metadata": {},
   "outputs": [
    {
     "data": {
      "text/plain": [
       "<re.Match object; span=(0, 1), match='p'>"
      ]
     },
     "execution_count": 19,
     "metadata": {},
     "output_type": "execute_result"
    }
   ],
   "source": [
    "re.search(\"p\",\"python\")"
   ]
  },
  {
   "cell_type": "code",
   "execution_count": 21,
   "metadata": {},
   "outputs": [
    {
     "data": {
      "text/plain": [
       "<re.Match object; span=(3, 5), match='ho'>"
      ]
     },
     "execution_count": 21,
     "metadata": {},
     "output_type": "execute_result"
    }
   ],
   "source": [
    "re.search(\"ho\",\"python\")"
   ]
  },
  {
   "cell_type": "code",
   "execution_count": 22,
   "metadata": {},
   "outputs": [
    {
     "data": {
      "text/plain": [
       "<re.Match object; span=(1, 2), match='o'>"
      ]
     },
     "execution_count": 22,
     "metadata": {},
     "output_type": "execute_result"
    }
   ],
   "source": [
    "re.search(\"o\",\"workshop\")"
   ]
  },
  {
   "cell_type": "code",
   "execution_count": 24,
   "metadata": {},
   "outputs": [
    {
     "data": {
      "text/plain": [
       "['o', 'o', 'o', 'o']"
      ]
     },
     "execution_count": 24,
     "metadata": {},
     "output_type": "execute_result"
    }
   ],
   "source": [
    "re.findall(\"o\",\"workosohop\")"
   ]
  },
  {
   "cell_type": "code",
   "execution_count": 25,
   "metadata": {},
   "outputs": [],
   "source": [
    "# match - searches the begining character\n",
    "# search -  seraches the string until it founds and skips remaining search\n",
    "# findall - seraches the entire string if it has found already "
   ]
  },
  {
   "cell_type": "code",
   "execution_count": 30,
   "metadata": {},
   "outputs": [
    {
     "name": "stdout",
     "output_type": "stream",
     "text": [
      "enterand\n",
      "matched\n"
     ]
    }
   ],
   "source": [
    "# anand\n",
    "# and\n",
    "# anacond\n",
    "# awkward\n",
    "import re\n",
    "pattern = '^[a][a-z]*[d]$'\n",
    "ch = input(\"enter\")\n",
    "if re.match(pattern,ch):\n",
    "    print(\"matched\") \n",
    "else:\n",
    "    print(\"not matched\")"
   ]
  },
  {
   "cell_type": "code",
   "execution_count": 37,
   "metadata": {},
   "outputs": [
    {
     "name": "stdout",
     "output_type": "stream",
     "text": [
      "enter +916789012345\n"
     ]
    },
    {
     "data": {
      "text/plain": [
       "True"
      ]
     },
     "execution_count": 37,
     "metadata": {},
     "output_type": "execute_result"
    }
   ],
   "source": [
    "# 10 digits - 6789123450 - ^[6-9][0-9]{9}$\n",
    "# 11 digits - 06789123457 - ^[0][6-9][0-9]{9}$\n",
    "# 12 digits - +916789012345 - ^[+][9][1][6-9][0-9]{9}$\n",
    "def phonenumber(number):\n",
    "    pattern = '^[6-9][0-9]{9}$|^[0][6-9][0-9]{9}$|^[+][9][1][6-9][0-9]{9}$'\n",
    "    if re.match(pattern,number):\n",
    "        return True\n",
    "    return False\n",
    "    \n",
    "\n",
    "number = input(\"enter \")\n",
    "phonenumber(number)"
   ]
  },
  {
   "cell_type": "code",
   "execution_count": 40,
   "metadata": {},
   "outputs": [
    {
     "name": "stdout",
     "output_type": "stream",
     "text": [
      "enter abcef.@hai.in\n"
     ]
    },
    {
     "data": {
      "text/plain": [
       "False"
      ]
     },
     "execution_count": 40,
     "metadata": {},
     "output_type": "execute_result"
    }
   ],
   "source": [
    "# email validation - abcedf@gmail.com\n",
    "# abcedf - username - [a-z0-9_.], 16 ---- ^[a-z0-9][a-z0-9_.]{4,16}[0-9a-z]\n",
    "# gmail  - domain/organization - [a-z0-9]{5,18}\n",
    "# com - extension (in,army) - [a-z]{2,5}$\n",
    "def emailValidation(email):\n",
    "    pattern = '^[a-z0-9][a-z0-9_.]{4,16}[0-9a-z][@][a-z0-9]{5,18}[.][a-z]{2,5}$'\n",
    "    if re.match(pattern,email):\n",
    "        return True\n",
    "    return False\n",
    "    \n",
    "\n",
    "email = input(\"enter \")\n",
    "emailValidation(email)"
   ]
  },
  {
   "cell_type": "code",
   "execution_count": null,
   "metadata": {},
   "outputs": [],
   "source": [
    "# to add a contact which is not in contacts list \n",
    "# search a contact in contacts list"
   ]
  }
 ],
 "metadata": {
  "kernelspec": {
   "display_name": "Python 3",
   "language": "python",
   "name": "python3"
  },
  "language_info": {
   "codemirror_mode": {
    "name": "ipython",
    "version": 3
   },
   "file_extension": ".py",
   "mimetype": "text/x-python",
   "name": "python",
   "nbconvert_exporter": "python",
   "pygments_lexer": "ipython3",
   "version": "3.7.1"
  }
 },
 "nbformat": 4,
 "nbformat_minor": 2
}
