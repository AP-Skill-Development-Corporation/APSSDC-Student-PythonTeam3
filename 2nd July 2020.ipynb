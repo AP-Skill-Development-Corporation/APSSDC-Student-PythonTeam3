{
 "cells": [
  {
   "cell_type": "markdown",
   "metadata": {},
   "source": [
    "### File handling and file data processing\n",
    "- used to store related information\n",
    "- steps\n",
    "    - open file\n",
    "        - use open(), it returns a file object\n",
    "            - open(filename,mode)\n",
    "    - perform operations\n",
    "        - read -- read data\n",
    "        - write -- add data\n",
    "        - append -- add data to existing data\n",
    "    - close file\n",
    "        - use close()\n",
    "- Modes\n",
    "    - read mode --- r\n",
    "    - write mode --- w\n",
    "    - append mode --- a"
   ]
  },
  {
   "cell_type": "code",
   "execution_count": 1,
   "metadata": {},
   "outputs": [
    {
     "name": "stdout",
     "output_type": "stream",
     "text": [
      "Hello Guys welcome to online python programming session\n"
     ]
    }
   ],
   "source": [
    "f = open('Datafiles/demo.txt')\n",
    "data = f.read()\n",
    "print(data)\n",
    "f.close()"
   ]
  },
  {
   "cell_type": "code",
   "execution_count": 2,
   "metadata": {},
   "outputs": [
    {
     "name": "stdout",
     "output_type": "stream",
     "text": [
      "Hello Guys welcome to online python programming session\n"
     ]
    }
   ],
   "source": [
    "# The word \"with\" automatically closes the file at the end of operation\n",
    "with open('Datafiles/demo.txt') as info:\n",
    "    information = info.read()\n",
    "    print(information)"
   ]
  },
  {
   "cell_type": "code",
   "execution_count": 4,
   "metadata": {},
   "outputs": [
    {
     "name": "stdout",
     "output_type": "stream",
     "text": [
      "6\n",
      "APSSDC\n"
     ]
    }
   ],
   "source": [
    "with open('Datafiles/demo.txt','w') as info:\n",
    "    information = info.write(\"APSSDC\")\n",
    "    print(information)\n",
    "with open('Datafiles/demo.txt') as info:\n",
    "    information = info.read()\n",
    "    print(information)"
   ]
  },
  {
   "cell_type": "code",
   "execution_count": 5,
   "metadata": {},
   "outputs": [
    {
     "name": "stdout",
     "output_type": "stream",
     "text": [
      "15\n",
      "APSSDC python program\n"
     ]
    }
   ],
   "source": [
    "with open('Datafiles/demo.txt','a') as f:\n",
    "    fh = f.write(\" python program\")\n",
    "    print(fh)\n",
    "with open('Datafiles/demo.txt') as info:\n",
    "    information = info.read()\n",
    "    print(information)"
   ]
  },
  {
   "cell_type": "markdown",
   "metadata": {},
   "source": [
    "- append --- data is added at the end\n",
    "- To overcome this\n",
    "    - tell()\n",
    "        - helps to know cursor position\n",
    "    - seek()\n",
    "        - helps to move cursor to particular position"
   ]
  },
  {
   "cell_type": "code",
   "execution_count": 8,
   "metadata": {},
   "outputs": [
    {
     "name": "stdout",
     "output_type": "stream",
     "text": [
      "21\n"
     ]
    }
   ],
   "source": [
    "with open('Datafiles/demo.txt') as f:\n",
    "    fh = f.read()\n",
    "    print(f.tell())\n",
    "#type(fh)"
   ]
  },
  {
   "cell_type": "code",
   "execution_count": 10,
   "metadata": {},
   "outputs": [
    {
     "name": "stdout",
     "output_type": "stream",
     "text": [
      " python pr\n"
     ]
    }
   ],
   "source": [
    "with open('Datafiles/demo.txt') as f:\n",
    "    f.read()\n",
    "    f.seek(6)\n",
    "    print(f.read(10))"
   ]
  },
  {
   "cell_type": "code",
   "execution_count": 13,
   "metadata": {},
   "outputs": [],
   "source": [
    "with open('Datafiles/demo.txt','w') as f:\n",
    "    f.seek(6)\n",
    "    f.write(\"Todays session on files concept\")"
   ]
  },
  {
   "cell_type": "code",
   "execution_count": 15,
   "metadata": {},
   "outputs": [],
   "source": [
    "with open('Datafiles/demo1.txt','w') as f:\n",
    "    fh = f.write(\"Hiiiii\")"
   ]
  },
  {
   "cell_type": "code",
   "execution_count": 17,
   "metadata": {},
   "outputs": [
    {
     "name": "stdout",
     "output_type": "stream",
     "text": [
      "['Hii', 'welcome', 'to', 'python', 'online']\n"
     ]
    }
   ],
   "source": [
    "with open('Datafiles/demo.txt') as f:\n",
    "    fh = f.read()\n",
    "    words = fh.split()\n",
    "    print(words)"
   ]
  },
  {
   "cell_type": "code",
   "execution_count": 19,
   "metadata": {},
   "outputs": [
    {
     "name": "stdout",
     "output_type": "stream",
     "text": [
      "Hii welcome to python online\n",
      "\n",
      "Session\n",
      "\n"
     ]
    }
   ],
   "source": [
    "with open('Datafiles/demo.txt') as f:\n",
    "    print(f.readline())\n",
    "    print(f.readline())"
   ]
  },
  {
   "cell_type": "code",
   "execution_count": 20,
   "metadata": {},
   "outputs": [
    {
     "name": "stdout",
     "output_type": "stream",
     "text": [
      "['Hii welcome to python online\\n', 'Session\\n', 'conducted\\n', 'by\\n', 'APSSDC\\n', 'Todays\\n', 'Concept is\\n', 'Files']\n"
     ]
    }
   ],
   "source": [
    "with open('Datafiles/demo.txt') as f:\n",
    "    print(f.readlines())"
   ]
  },
  {
   "cell_type": "code",
   "execution_count": 21,
   "metadata": {},
   "outputs": [
    {
     "name": "stdout",
     "output_type": "stream",
     "text": [
      "Hii welcome to python online\n",
      "Session\n",
      "conducted\n",
      "by\n",
      "APSSDC\n",
      "Todays\n",
      "Concept is\n",
      "Files"
     ]
    }
   ],
   "source": [
    "with open('Datafiles/demo.txt') as f:\n",
    "    fh = f.readlines()\n",
    "    for i in fh:\n",
    "        print(i,end = \"\")"
   ]
  },
  {
   "cell_type": "code",
   "execution_count": 23,
   "metadata": {},
   "outputs": [
    {
     "name": "stdout",
     "output_type": "stream",
     "text": [
      "8\n"
     ]
    },
    {
     "data": {
      "text/plain": [
       "list"
      ]
     },
     "execution_count": 23,
     "metadata": {},
     "output_type": "execute_result"
    }
   ],
   "source": [
    "with open('Datafiles/demo.txt') as f:\n",
    "    fh = f.readlines()\n",
    "    print(len(fh))\n",
    "type(fh)"
   ]
  },
  {
   "cell_type": "code",
   "execution_count": 24,
   "metadata": {},
   "outputs": [
    {
     "name": "stdout",
     "output_type": "stream",
     "text": [
      "68\n"
     ]
    }
   ],
   "source": [
    "def charcount(filepath):\n",
    "    with open(filepath) as f:\n",
    "        c = 0\n",
    "        fh = f.read()\n",
    "        for i in fh:\n",
    "            if i != \"\\n\" and i != \" \":\n",
    "                c += 1\n",
    "        print(c)\n",
    "filepath = 'Datafiles/demo.txt'\n",
    "charcount(filepath)"
   ]
  },
  {
   "cell_type": "markdown",
   "metadata": {},
   "source": [
    "- Tasks\n",
    "    - words count\n",
    "    - unique words count\n",
    "    - freuency of words\n",
    "        - is : 2\n",
    "        - python : 1"
   ]
  },
  {
   "cell_type": "markdown",
   "metadata": {},
   "source": [
    "- File data processing\n",
    "    - working with data in the file and doing modifications to that file"
   ]
  },
  {
   "cell_type": "code",
   "execution_count": 9,
   "metadata": {},
   "outputs": [],
   "source": [
    "# Generate students marks randomly\n",
    "from random import randint\n",
    "def marksgen(n,lb,ub):\n",
    "    with open('Datafiles/marks.txt','w') as f:\n",
    "        for i in range(0,n):\n",
    "            r = randint(lb,ub)\n",
    "            f.write(str(r)+'\\n')\n",
    "    return\n",
    "marksgen(50,1,100)"
   ]
  },
  {
   "cell_type": "code",
   "execution_count": 10,
   "metadata": {},
   "outputs": [
    {
     "data": {
      "text/plain": [
       "39.44"
      ]
     },
     "execution_count": 10,
     "metadata": {},
     "output_type": "execute_result"
    }
   ],
   "source": [
    "def classavg(filepath):\n",
    "    with open(filepath) as f:\n",
    "        filedata = f.read()\n",
    "        marks = filedata.split()\n",
    "        sum = 0\n",
    "        for mark in marks:\n",
    "            sum += int(mark)\n",
    "    return sum / len(marks)\n",
    "filepath = 'Datafiles/marks.txt'\n",
    "classavg(filepath)"
   ]
  },
  {
   "cell_type": "markdown",
   "metadata": {},
   "source": [
    "- Tasks\n",
    "    - % of students passed\n",
    "        - marks above or equal to 35\n",
    "    - % of students failed\n",
    "        - marks below 35\n",
    "    - % of students with distinction\n",
    "        - marks above or equal to 80\n",
    "    - Highest mark frequency\n",
    "        - Number of students with highest marks\n",
    "    - Lowest mark frequency\n",
    "        - Number of students with lowest marks"
   ]
  },
  {
   "cell_type": "code",
   "execution_count": 31,
   "metadata": {},
   "outputs": [],
   "source": [
    "# Find and replace a word in different file\n",
    "f = open('Datafiles/data.txt')\n",
    "f2 = open('Datafiles/data2.txt','w')\n",
    "for line in f:\n",
    "    f2.write(line.replace('word','PYTHON'))\n",
    "f.close()\n",
    "f2.close()"
   ]
  },
  {
   "cell_type": "code",
   "execution_count": 28,
   "metadata": {},
   "outputs": [],
   "source": [
    "# replace word in the same file\n",
    "f = open('Datafiles/info.txt')\n",
    "data = f.read()\n",
    "data = data.replace('word','FILES')\n",
    "f.close()\n",
    "f = open('Datafiles/info.txt','w')\n",
    "f.write(data)\n",
    "f.close()"
   ]
  },
  {
   "cell_type": "code",
   "execution_count": 1,
   "metadata": {},
   "outputs": [
    {
     "data": {
      "text/plain": [
       "19"
      ]
     },
     "execution_count": 1,
     "metadata": {},
     "output_type": "execute_result"
    }
   ],
   "source": [
    "# Words Count\n",
    "def wordscount(filepath):\n",
    "    with open(filepath) as f:\n",
    "        fh = f.read()\n",
    "        data = fh.split()\n",
    "        wc = len(data)\n",
    "    return wc\n",
    "filepath = 'Datafiles/task.txt'\n",
    "wordscount(filepath)"
   ]
  },
  {
   "cell_type": "code",
   "execution_count": 5,
   "metadata": {},
   "outputs": [
    {
     "name": "stdout",
     "output_type": "stream",
     "text": [
      "['Good', 'Afternoon', 'everyone', 'welcome', 'to', 'python', 'online', 'session', 'on', 'file', 'handling', 'and', 'data', 'processing', '2nd', 'July', '2020'] "
     ]
    }
   ],
   "source": [
    "# Unique words count\n",
    "def uniquewords(filepath):\n",
    "    uw = []\n",
    "    with open(filepath) as f:\n",
    "        fh = f.read()\n",
    "        data = fh.split()\n",
    "        for word in data:\n",
    "            if word not in uw:\n",
    "                uw.append(word)\n",
    "        print(uw,end=\" \")\n",
    "filepath = 'Datafiles/task.txt'\n",
    "uniquewords(filepath)\n",
    "        "
   ]
  },
  {
   "cell_type": "code",
   "execution_count": 6,
   "metadata": {},
   "outputs": [
    {
     "name": "stdout",
     "output_type": "stream",
     "text": [
      "{'Good': 1, 'Afternoon': 1, 'everyone': 1, 'welcome': 1, 'to': 1, 'python': 1, 'online': 1, 'session': 1, 'on': 2, 'file': 2, 'handling': 1, 'and': 1, 'data': 1, 'processing': 1, '2nd': 1, 'July': 1, '2020': 1} "
     ]
    }
   ],
   "source": [
    "# Words Frequency\n",
    "def wordsfreq(filepath):\n",
    "    with open(filepath) as f:\n",
    "        d = {}\n",
    "        fh = f.read()\n",
    "        data = fh.split()\n",
    "        for word in data:\n",
    "            a = data.count(word)\n",
    "            d[word] = a\n",
    "        print(d,end=\" \")\n",
    "filepath = 'Datafiles/task.txt'\n",
    "wordsfreq(filepath)"
   ]
  },
  {
   "cell_type": "code",
   "execution_count": 17,
   "metadata": {},
   "outputs": [
    {
     "name": "stdout",
     "output_type": "stream",
     "text": [
      "% of students passed  50.0\n",
      "% of students failed  50.0\n",
      "% of students with distinction  10.0\n",
      "Highest mark frequency  2\n",
      "Lowest mark frequency 1\n"
     ]
    }
   ],
   "source": [
    "# Student report Generation\n",
    "def reportgen(filepath):\n",
    "    with open(filepath) as f:\n",
    "        filedata = f.read()\n",
    "        lines = filedata.split()\n",
    "        passcount = 0\n",
    "        distcount = 0\n",
    "        highcount = 0\n",
    "        lowcount = 0\n",
    "        highestmarks = max(lines)\n",
    "        lowestmarks = min(lines)\n",
    "        for mark in lines:\n",
    "            if int(mark) >= 35:\n",
    "                passcount += 1\n",
    "            if int(mark) >= 80:\n",
    "                distcount += 1\n",
    "            if int(mark) == int(highestmarks):\n",
    "                highcount += 1\n",
    "            if int(mark) == int(lowestmarks):\n",
    "                lowcount += 1\n",
    "        passpercentage = (passcount/len(lines))*100\n",
    "        failedpercentage = 100 - passpercentage\n",
    "        distinctionpercentage = (distcount/len(lines))*100\n",
    "        print(\"% of students passed \",passpercentage)\n",
    "        print(\"% of students failed \",failedpercentage)\n",
    "        print(\"% of students with distinction \",distinctionpercentage)\n",
    "        print(\"Highest mark frequency \",highcount)\n",
    "        print(\"Lowest mark frequency\",lowcount)\n",
    "filepath = 'Datafiles/marks.txt'\n",
    "reportgen(filepath)"
   ]
  },
  {
   "cell_type": "code",
   "execution_count": 16,
   "metadata": {},
   "outputs": [
    {
     "name": "stdout",
     "output_type": "stream",
     "text": [
      "95 65 67 60 50 73 51 8 9 8 27 20 15 9 47 100 95 69 3 70 56 13 35 17 29 41 15 26 15 74 71 2 5 59 29 1 40 47 47 81 12 79 6 11 47 24 30 24 89 6 "
     ]
    }
   ],
   "source": [
    "def marksfreq(filepath):\n",
    "    with open(filepath) as f:\n",
    "        fh = f.read()\n",
    "        marks = fh.split()\n",
    "        for mark in marks:\n",
    "            print(mark,end=\" \")\n",
    "        #print(max(marks))\n",
    "        #print(min(marks))\n",
    "filepath = 'Datafiles/marks.txt'\n",
    "marksfreq(filepath)"
   ]
  },
  {
   "cell_type": "code",
   "execution_count": null,
   "metadata": {},
   "outputs": [],
   "source": []
  }
 ],
 "metadata": {
  "kernelspec": {
   "display_name": "Python 3",
   "language": "python",
   "name": "python3"
  },
  "language_info": {
   "codemirror_mode": {
    "name": "ipython",
    "version": 3
   },
   "file_extension": ".py",
   "mimetype": "text/x-python",
   "name": "python",
   "nbconvert_exporter": "python",
   "pygments_lexer": "ipython3",
   "version": "3.7.1"
  }
 },
 "nbformat": 4,
 "nbformat_minor": 2
}
