{
 "cells": [
  {
   "cell_type": "markdown",
   "metadata": {},
   "source": [
    "# Day Objectives\n",
    "\n",
    "# constructor\n",
    "* Used for instantiating an object.In python *__init__*(self) Method called as a constructor\n",
    "* It Works is to initialize(assign values) to the data members of a class when an object of a class is created.\n",
    "* Types of constructors\n",
    "    * Default constructor \n",
    "    * Parameterized constructor \n",
    "\n",
    "```Syntax of constructor declaration```"
   ]
  },
  {
   "cell_type": "code",
   "execution_count": null,
   "metadata": {},
   "outputs": [],
   "source": [
    "\n",
    "def __init__(self):\n",
    "    # body of the constructor"
   ]
  },
  {
   "cell_type": "code",
   "execution_count": 13,
   "metadata": {},
   "outputs": [
    {
     "name": "stdout",
     "output_type": "stream",
     "text": [
      "HELLO Every one..!\n"
     ]
    }
   ],
   "source": [
    "class MyClass:\n",
    "    def __init__(self):  # default constuctor -- it won't access any arguments\n",
    "        print(\"HELLO Every one..!\")\n",
    "        \n",
    "obj = MyClass()"
   ]
  },
  {
   "cell_type": "code",
   "execution_count": 12,
   "metadata": {},
   "outputs": [
    {
     "name": "stdout",
     "output_type": "stream",
     "text": [
      "hi\n"
     ]
    }
   ],
   "source": [
    "class OwnClass:\n",
    "    def method(self):\n",
    "        print(\"hi\")\n",
    "        \n",
    "ob = OwnClass()\n",
    "ob.method()"
   ]
  },
  {
   "cell_type": "code",
   "execution_count": 22,
   "metadata": {},
   "outputs": [
    {
     "name": "stdout",
     "output_type": "stream",
     "text": [
      "I am Init\n"
     ]
    }
   ],
   "source": [
    "class A:\n",
    "    def __init__(self):\n",
    "        print(\"I am Init\")\n",
    "        \n",
    "ob1 = A()"
   ]
  },
  {
   "cell_type": "code",
   "execution_count": 23,
   "metadata": {},
   "outputs": [
    {
     "name": "stdout",
     "output_type": "stream",
     "text": [
      "I am Init\n"
     ]
    }
   ],
   "source": [
    "ob2 = A()"
   ]
  },
  {
   "cell_type": "code",
   "execution_count": 24,
   "metadata": {
    "scrolled": true
   },
   "outputs": [
    {
     "name": "stdout",
     "output_type": "stream",
     "text": [
      "2302154299488\n",
      "2302154299544\n"
     ]
    }
   ],
   "source": [
    "print(id(ob1))\n",
    "print(id(ob2))   # id returns address location in Heap Memory"
   ]
  },
  {
   "cell_type": "code",
   "execution_count": 39,
   "metadata": {},
   "outputs": [
    {
     "data": {
      "text/plain": [
       "40"
      ]
     },
     "execution_count": 39,
     "metadata": {},
     "output_type": "execute_result"
    }
   ],
   "source": [
    "# parameterized Constictors  --- it allows arguments\n",
    "class A:\n",
    "    n4 = 40  # class Variables\n",
    "    def __init__(self,num1,num2,num3):\n",
    "        self.n1 = num1\n",
    "        self.n2 = num2\n",
    "        self.n3 = num3   # instance variables\n",
    "        \n",
    "    def add(self):\n",
    "        return self.n1+self.n2+self.n3\n",
    "    \n",
    "ob = A(12,32,34)\n",
    "ob.add()\n",
    "A.n4"
   ]
  },
  {
   "cell_type": "code",
   "execution_count": 47,
   "metadata": {},
   "outputs": [
    {
     "data": {
      "text/plain": [
       "198"
      ]
     },
     "execution_count": 47,
     "metadata": {},
     "output_type": "execute_result"
    }
   ],
   "source": [
    "class student:\n",
    "    g = 100   # common for all obj  -- class variables\n",
    "    \n",
    "    def __init__(self,m1,m2,m3):\n",
    "        self.m1 = m1\n",
    "        self.m2 = m2\n",
    "        self.m3 = m3    # instamce variable \n",
    "    \n",
    "    def Total_marks(self):\n",
    "        return self.m1+self.m2+self.m3\n",
    "    \n"
   ]
  },
  {
   "cell_type": "code",
   "execution_count": 55,
   "metadata": {},
   "outputs": [
    {
     "data": {
      "text/plain": [
       "1000"
      ]
     },
     "execution_count": 55,
     "metadata": {},
     "output_type": "execute_result"
    }
   ],
   "source": [
    "obj = student(34,56,8)\n",
    "obj.g\n",
    "student.g\n",
    "obj.Total_marks()+student.g\n",
    "obj.g\n",
    "student.g"
   ]
  },
  {
   "cell_type": "code",
   "execution_count": 51,
   "metadata": {},
   "outputs": [
    {
     "data": {
      "text/plain": [
       "1178"
      ]
     },
     "execution_count": 51,
     "metadata": {},
     "output_type": "execute_result"
    }
   ],
   "source": [
    "obj2 = student(56,78,44)\n",
    "obj2.Total_marks()+obj2.g"
   ]
  },
  {
   "cell_type": "code",
   "execution_count": 50,
   "metadata": {},
   "outputs": [],
   "source": [
    "student.g = 1000"
   ]
  },
  {
   "cell_type": "code",
   "execution_count": 33,
   "metadata": {},
   "outputs": [
    {
     "data": {
      "text/plain": [
       "44"
      ]
     },
     "execution_count": 33,
     "metadata": {},
     "output_type": "execute_result"
    }
   ],
   "source": [
    "class A:\n",
    "    def __init__(self,num1,num2):\n",
    "        self.n1=num1\n",
    "        self.n2=num2\n",
    "    def add(self):\n",
    "        return self.n1+self.n2\n",
    "ob=A(12,32)\n",
    "ob.add()\n"
   ]
  },
  {
   "cell_type": "markdown",
   "metadata": {},
   "source": [
    "## Python Inheritance\n",
    "\n",
    "         * Inheritance enables us to define a class that takes all the functionality from a <br> \n",
    "           parent class and allows us to add more\n",
    "         * It refers to defining a new class with little or no modification to an existing class\n",
    "         * New class is called derived (or child) class \n",
    "         * One from which it inherits is called the base (or parent) class\n",
    "         \n",
    "#### The benefits of inheritance :\n",
    "         * It provides re-usability of a code\n",
    "         * it allows us to add more features to a class without modifying it\n",
    "         * It is transitive in nature\n",
    "         * if class B inherits from another class A, then all the subclasses of B would automatically \n",
    "           inherit from class A.\n",
    "                  \n",
    "![](inheritence.jpg)\n",
    "\n",
    "\n",
    "\n",
    "#### Advantages:\n",
    "    * Application development time is less.\n",
    "    * Application take less memory.\n",
    "    * Application execution time is less.\n",
    "\n",
    "```Syntax```"
   ]
  },
  {
   "cell_type": "markdown",
   "metadata": {},
   "source": [
    "Class A  # Grand Father\n",
    "|\n",
    "|\n",
    "|\n",
    "class B  # Father\n",
    "|\n",
    "|\n",
    "|\n",
    "class C  # Child"
   ]
  },
  {
   "cell_type": "code",
   "execution_count": null,
   "metadata": {},
   "outputs": [],
   "source": [
    "class BaseClass:\n",
    "      Body of base class\n",
    "        \n",
    "class DerivedClass(BaseClass):\n",
    "      Body of derived class"
   ]
  },
  {
   "cell_type": "markdown",
   "metadata": {},
   "source": [
    "## Single level Inheritence\n",
    "#### When a child class inherits from only one parent class, it is called single inheritance\n",
    "\n",
    "![](single.png)"
   ]
  },
  {
   "cell_type": "code",
   "execution_count": 95,
   "metadata": {},
   "outputs": [],
   "source": [
    "class BaseClass:\n",
    "    def A():\n",
    "        print(\"I am Super CLass...!\")\n",
    "        \n",
    "class SubClass(BaseClass):\n",
    "    def B():\n",
    "        print(\"I am Sub Class..!\")"
   ]
  },
  {
   "cell_type": "code",
   "execution_count": 110,
   "metadata": {},
   "outputs": [
    {
     "name": "stdout",
     "output_type": "stream",
     "text": [
      "I am Super CLass...!\n"
     ]
    }
   ],
   "source": [
    "obj = BaseClass   # created object for super class\n",
    "obj.A()\n",
    "# obj.B()  # it won't work"
   ]
  },
  {
   "cell_type": "code",
   "execution_count": 109,
   "metadata": {
    "scrolled": true
   },
   "outputs": [
    {
     "name": "stdout",
     "output_type": "stream",
     "text": [
      "I am Sub Class..!\n",
      "I am Super CLass...!\n"
     ]
    }
   ],
   "source": [
    "obj2 = SubClass   # created object for child class\n",
    "obj2.B()\n",
    "obj2.A()"
   ]
  },
  {
   "cell_type": "markdown",
   "metadata": {},
   "source": [
    "```NOTE``: **Sub class can access all the properties of Base Class but\n",
    "           base class can not access any property of sub class**\n"
   ]
  },
  {
   "cell_type": "markdown",
   "metadata": {},
   "source": [
    "## One to Many inheritence\n",
    "\n",
    "#### one parent class and more than one child classes, is called one to many inheritence"
   ]
  },
  {
   "cell_type": "code",
   "execution_count": 113,
   "metadata": {},
   "outputs": [],
   "source": [
    "class BaseClass:\n",
    "    def __init__(self):\n",
    "        self.name = \"MerC\"\n",
    "        \n",
    "class child1(BaseClass):\n",
    "    def A1(self):\n",
    "        print(\"Hi\")\n",
    "        \n",
    "class child2(BaseClass):\n",
    "    def B1(self):\n",
    "        print(\"Hello...!\")\n",
    "        "
   ]
  },
  {
   "cell_type": "code",
   "execution_count": 115,
   "metadata": {},
   "outputs": [
    {
     "data": {
      "text/plain": [
       "'MerC'"
      ]
     },
     "execution_count": 115,
     "metadata": {},
     "output_type": "execute_result"
    }
   ],
   "source": [
    "obj = BaseClass()\n",
    "obj.name"
   ]
  },
  {
   "cell_type": "code",
   "execution_count": 120,
   "metadata": {},
   "outputs": [
    {
     "name": "stdout",
     "output_type": "stream",
     "text": [
      "Hi\n",
      "None\n"
     ]
    },
    {
     "data": {
      "text/plain": [
       "'MerC'"
      ]
     },
     "execution_count": 120,
     "metadata": {},
     "output_type": "execute_result"
    }
   ],
   "source": [
    "ch1 = child1()\n",
    "print(ch1.A1())\n",
    "ch1.name"
   ]
  },
  {
   "cell_type": "code",
   "execution_count": 124,
   "metadata": {},
   "outputs": [
    {
     "name": "stdout",
     "output_type": "stream",
     "text": [
      "Hello...!\n"
     ]
    },
    {
     "data": {
      "text/plain": [
       "'MerC'"
      ]
     },
     "execution_count": 124,
     "metadata": {},
     "output_type": "execute_result"
    }
   ],
   "source": [
    "ch2 = child2()\n",
    "ch2.B1()\n",
    "ch2.name\n",
    "# ch2.A1()"
   ]
  },
  {
   "cell_type": "code",
   "execution_count": 125,
   "metadata": {},
   "outputs": [],
   "source": [
    "class superMarket:\n",
    "    def __init__(self):\n",
    "        self.salt = 10\n",
    "\n",
    "class shop1(superMarket):\n",
    "    def Cost1(self):\n",
    "        print(\"salt Cost is  \",self.salt+2)\n",
    "        \n",
    "        \n",
    "class shop2(superMarket):\n",
    "    def cost2(self):\n",
    "        print(\"salt cost is \",self.salt+3)"
   ]
  },
  {
   "cell_type": "code",
   "execution_count": 129,
   "metadata": {},
   "outputs": [
    {
     "data": {
      "text/plain": [
       "10"
      ]
     },
     "execution_count": 129,
     "metadata": {},
     "output_type": "execute_result"
    }
   ],
   "source": [
    "ob = superMarket()\n",
    "ob.salt\n",
    "#ob.Cost1"
   ]
  },
  {
   "cell_type": "code",
   "execution_count": 134,
   "metadata": {},
   "outputs": [
    {
     "name": "stdout",
     "output_type": "stream",
     "text": [
      "salt Cost is   12\n"
     ]
    },
    {
     "data": {
      "text/plain": [
       "10"
      ]
     },
     "execution_count": 134,
     "metadata": {},
     "output_type": "execute_result"
    }
   ],
   "source": [
    "ob1 = shop1()\n",
    "ob1.Cost1()\n",
    "ob1.salt"
   ]
  },
  {
   "cell_type": "code",
   "execution_count": 136,
   "metadata": {},
   "outputs": [
    {
     "name": "stdout",
     "output_type": "stream",
     "text": [
      "salt cost is  13\n"
     ]
    },
    {
     "data": {
      "text/plain": [
       "10"
      ]
     },
     "execution_count": 136,
     "metadata": {},
     "output_type": "execute_result"
    }
   ],
   "source": [
    "ob2 = shop2()\n",
    "ob2.cost2()\n",
    "ob2.salt"
   ]
  },
  {
   "cell_type": "markdown",
   "metadata": {},
   "source": [
    "Major Project:\n",
    "10 Methods\n",
    "10 Attributes\n",
    "\n",
    "\n",
    "\n",
    "m1  -- \n",
    "self...\n",
    "\n",
    "m2\n",
    "\n",
    "\n",
    "m3"
   ]
  },
  {
   "cell_type": "markdown",
   "metadata": {},
   "source": [
    "## Multiple Inheritence\n",
    "\n",
    "####  more than one parent class and only one child class\n",
    "\n",
    "![](multi.png)"
   ]
  },
  {
   "cell_type": "code",
   "execution_count": 150,
   "metadata": {},
   "outputs": [],
   "source": [
    "class Dad:\n",
    "    def __init__(self):\n",
    "        self.money = 500\n",
    "        \n",
    "class Mom: \n",
    "    def __init__(self):\n",
    "        self.amount = 700\n",
    "        \n",
    "class child(Dad,Mom):\n",
    "    def __init__(self):\n",
    "        Dad.__init__(self)\n",
    "        Mom.__init__(self)\n",
    "        print(\"Total Pocket Money per month is\",self.money+self.amount)       "
   ]
  },
  {
   "cell_type": "code",
   "execution_count": 151,
   "metadata": {},
   "outputs": [
    {
     "name": "stdout",
     "output_type": "stream",
     "text": [
      "Total Pocket Money per month is 1200\n"
     ]
    }
   ],
   "source": [
    "obj = child()"
   ]
  },
  {
   "cell_type": "code",
   "execution_count": null,
   "metadata": {},
   "outputs": [],
   "source": []
  },
  {
   "cell_type": "code",
   "execution_count": null,
   "metadata": {},
   "outputs": [],
   "source": []
  },
  {
   "cell_type": "markdown",
   "metadata": {},
   "source": [
    "## Multilevel Inheritence\n",
    "\n",
    "####  Have grandParent, parent and  child relationship\n",
    "####  When we have a child and grandchild relationship.\n",
    "\n",
    "![](multilevel.jpg)"
   ]
  },
  {
   "cell_type": "code",
   "execution_count": 184,
   "metadata": {},
   "outputs": [],
   "source": [
    "class Grany:\n",
    "    def __init__(self):\n",
    "        self.asserts = 100000\n",
    "        \n",
    "class Father(Grany):\n",
    "    def __init__(self):\n",
    "        super().__init__()\n",
    "        self.property = \"2 Building\"\n",
    "        \n",
    "class child(Father):\n",
    "    def __init__(self):\n",
    "        super().__init__()\n",
    "        print(self.asserts,self.property)"
   ]
  },
  {
   "cell_type": "code",
   "execution_count": 185,
   "metadata": {},
   "outputs": [
    {
     "name": "stdout",
     "output_type": "stream",
     "text": [
      "100000 2 Building\n"
     ]
    }
   ],
   "source": [
    "obj = child()"
   ]
  },
  {
   "cell_type": "code",
   "execution_count": null,
   "metadata": {},
   "outputs": [],
   "source": []
  },
  {
   "cell_type": "markdown",
   "metadata": {},
   "source": [
    "## Task\n",
    "* create 2 different parent class\n",
    "* Parent 1 retuns Phone OTP\n",
    "* Parent 2 Returns Mail OTP\n",
    "* create 1 Child  and it returns Combination of both OTP\n",
    "\n",
    "\n",
    "* Parent 1 = Phone OTP is  864587\n",
    "* Parent 2 = Mail OTP is 568734\n",
    "* child = The Actual OTP Is \"864587568734\"\n",
    "\n"
   ]
  },
  {
   "cell_type": "code",
   "execution_count": null,
   "metadata": {},
   "outputs": [],
   "source": []
  },
  {
   "cell_type": "code",
   "execution_count": null,
   "metadata": {},
   "outputs": [],
   "source": []
  },
  {
   "cell_type": "code",
   "execution_count": null,
   "metadata": {},
   "outputs": [],
   "source": []
  },
  {
   "cell_type": "code",
   "execution_count": null,
   "metadata": {},
   "outputs": [],
   "source": []
  },
  {
   "cell_type": "code",
   "execution_count": null,
   "metadata": {},
   "outputs": [],
   "source": []
  },
  {
   "cell_type": "code",
   "execution_count": null,
   "metadata": {},
   "outputs": [],
   "source": []
  },
  {
   "cell_type": "code",
   "execution_count": null,
   "metadata": {},
   "outputs": [],
   "source": []
  },
  {
   "cell_type": "code",
   "execution_count": null,
   "metadata": {},
   "outputs": [],
   "source": []
  },
  {
   "cell_type": "code",
   "execution_count": null,
   "metadata": {},
   "outputs": [],
   "source": []
  },
  {
   "cell_type": "code",
   "execution_count": null,
   "metadata": {},
   "outputs": [],
   "source": []
  },
  {
   "cell_type": "code",
   "execution_count": null,
   "metadata": {},
   "outputs": [],
   "source": []
  },
  {
   "cell_type": "code",
   "execution_count": null,
   "metadata": {},
   "outputs": [],
   "source": []
  },
  {
   "cell_type": "code",
   "execution_count": null,
   "metadata": {},
   "outputs": [],
   "source": []
  },
  {
   "cell_type": "code",
   "execution_count": null,
   "metadata": {},
   "outputs": [],
   "source": []
  },
  {
   "cell_type": "code",
   "execution_count": null,
   "metadata": {},
   "outputs": [],
   "source": []
  },
  {
   "cell_type": "code",
   "execution_count": null,
   "metadata": {},
   "outputs": [],
   "source": []
  },
  {
   "cell_type": "code",
   "execution_count": null,
   "metadata": {},
   "outputs": [],
   "source": []
  },
  {
   "cell_type": "code",
   "execution_count": null,
   "metadata": {},
   "outputs": [],
   "source": []
  },
  {
   "cell_type": "code",
   "execution_count": null,
   "metadata": {},
   "outputs": [],
   "source": []
  },
  {
   "cell_type": "code",
   "execution_count": null,
   "metadata": {},
   "outputs": [],
   "source": []
  },
  {
   "cell_type": "code",
   "execution_count": null,
   "metadata": {},
   "outputs": [],
   "source": []
  },
  {
   "cell_type": "code",
   "execution_count": null,
   "metadata": {},
   "outputs": [],
   "source": []
  },
  {
   "cell_type": "markdown",
   "metadata": {},
   "source": [
    "### Task\n",
    "* create class as Student_Report\n",
    "* def one Method and pass mark_list [90,89,56,67,45,13,45,20,34]\n",
    "* def second method PassPercentage \n",
    "    return percentage"
   ]
  },
  {
   "cell_type": "code",
   "execution_count": 5,
   "metadata": {},
   "outputs": [],
   "source": [
    "class Student_Report:\n",
    "    def mark_list(self,a,b,c,d,e,f,g,h,i):\n",
    "        self.a=a\n",
    "        self.b=b\n",
    "        self.c=c\n",
    "        self.d=d\n",
    "        self.e=e\n",
    "        self.f=f\n",
    "        self.g=g\n",
    "        self.h=h\n",
    "        self.i=i\n",
    "    def pass_percentage(self):\n",
    "        per=((self.a+self.b+self.c+self.d+self.e+self.f+self.g+self.h+self.i)/900)*100\n",
    "        return per\n",
    "      # (Pass_Student/total)**100"
   ]
  },
  {
   "cell_type": "code",
   "execution_count": 4,
   "metadata": {},
   "outputs": [
    {
     "data": {
      "text/plain": [
       "51.0"
      ]
     },
     "execution_count": 4,
     "metadata": {},
     "output_type": "execute_result"
    }
   ],
   "source": [
    "a=Student_Report()\n",
    "a.mark_list(90,89,56,67,45,13,45,20,34)\n",
    "a.pass_percentage()\n"
   ]
  },
  {
   "cell_type": "code",
   "execution_count": 6,
   "metadata": {},
   "outputs": [
    {
     "name": "stdout",
     "output_type": "stream",
     "text": [
      "Fail_percentage: 33.33333333333333\n",
      "Pass_Percentage: 66.66666666666666\n"
     ]
    }
   ],
   "source": [
    "class student_report:\n",
    "    def marks(self,markslist):\n",
    "        self.markslist = markslist\n",
    "    def passpercentage(self):\n",
    "        Total_members=0\n",
    "        pass_members=0\n",
    "    \n",
    "        for i in self.markslist:\n",
    "            if i>=0:\n",
    "                Total_members+=1\n",
    "            if i<35:\n",
    "                fail=Total_members-pass_members\n",
    "            elif i>=35:\n",
    "                pass_members+=1 \n",
    "        print('Fail_percentage:',(fail/Total_members)*100)\n",
    "        print('Pass_Percentage:',(pass_members/Total_members)*100)\n",
    "                \n",
    "                \n",
    "                \n",
    "st= student_report()\n",
    "st.marks([90,89,56,67,45,13,45,20,34])\n",
    "st.passpercentage()\n"
   ]
  },
  {
   "cell_type": "code",
   "execution_count": 7,
   "metadata": {},
   "outputs": [
    {
     "name": "stdout",
     "output_type": "stream",
     "text": [
      "PASS % = 77.77777777777779\n"
     ]
    }
   ],
   "source": [
    "class student_report:\n",
    "    def __init__(self):\n",
    "        pass\n",
    "    def marklist(self,x):\n",
    "        l=len(x)\n",
    "        liii=list(filter(lambda x : x>=35,x))\n",
    "        xx=len(liii)\n",
    "        percentage=(xx/l)*100\n",
    "        self.percentage=percentage\n",
    "    def passpercentage(abc):\n",
    "        print('PASS % =',abc.percentage)\n",
    "        \n",
    "sai=student_report()\n",
    "sai.marklist([90,89,56,67,45,13,45,20,35])\n",
    "sai.passpercentage()\n"
   ]
  },
  {
   "cell_type": "code",
   "execution_count": null,
   "metadata": {},
   "outputs": [],
   "source": []
  }
 ],
 "metadata": {
  "kernelspec": {
   "display_name": "Python 3",
   "language": "python",
   "name": "python3"
  },
  "language_info": {
   "codemirror_mode": {
    "name": "ipython",
    "version": 3
   },
   "file_extension": ".py",
   "mimetype": "text/x-python",
   "name": "python",
   "nbconvert_exporter": "python",
   "pygments_lexer": "ipython3",
   "version": "3.7.3"
  }
 },
 "nbformat": 4,
 "nbformat_minor": 2
}
